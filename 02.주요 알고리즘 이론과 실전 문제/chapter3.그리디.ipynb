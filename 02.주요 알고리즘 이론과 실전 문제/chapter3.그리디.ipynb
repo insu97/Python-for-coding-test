{
 "cells": [
  {
   "cell_type": "markdown",
   "id": "0dc523c5",
   "metadata": {},
   "source": [
    "# 그리디\n",
    "    : 현재 상황에서 지금 당장 좋은 것만 고르는 방법"
   ]
  },
  {
   "cell_type": "markdown",
   "id": "50701198",
   "metadata": {},
   "source": [
    "## 당장 좋은 것만 선택하는 그리디"
   ]
  },
  {
   "cell_type": "code",
   "execution_count": 1,
   "id": "2226944a",
   "metadata": {
    "ExecuteTime": {
     "end_time": "2022-09-21T07:00:36.180690Z",
     "start_time": "2022-09-21T07:00:30.214551Z"
    }
   },
   "outputs": [
    {
     "name": "stdout",
     "output_type": "stream",
     "text": [
      "12560\n",
      "27\n"
     ]
    }
   ],
   "source": [
    "# ex) 거스름돈\n",
    "# 500, 100, 50, 10 원 개수 세기\n",
    "\n",
    "n = int(input())\n",
    "count = 0\n",
    "\n",
    "# 그리디 알고리즘의 정당성\n",
    "# 가장 큰 화폐부터 사용\n",
    "coin_types = [500,100,50,10]\n",
    "\n",
    "for coin in coin_types :\n",
    "    count += n // coin\n",
    "    n %= coin\n",
    "\n",
    "print(count)"
   ]
  },
  {
   "cell_type": "markdown",
   "id": "12fe002e",
   "metadata": {},
   "source": [
    "## 큰 수의 법칙"
   ]
  },
  {
   "cell_type": "markdown",
   "id": "d765f515",
   "metadata": {},
   "source": [
    "### V1"
   ]
  },
  {
   "cell_type": "markdown",
   "id": "e20bf28f",
   "metadata": {},
   "source": [
    "#### 내 풀이"
   ]
  },
  {
   "cell_type": "code",
   "execution_count": 19,
   "id": "b723b6a8",
   "metadata": {
    "ExecuteTime": {
     "end_time": "2022-09-21T07:19:32.841509Z",
     "start_time": "2022-09-21T07:19:25.599505Z"
    }
   },
   "outputs": [
    {
     "name": "stdout",
     "output_type": "stream",
     "text": [
      "5 8 3\n",
      "2 4 5 4 6\n"
     ]
    }
   ],
   "source": [
    "n, m, k = map(int , input().split())\n",
    "data = list(map(int,input().split()))"
   ]
  },
  {
   "cell_type": "code",
   "execution_count": 20,
   "id": "ab1e9d84",
   "metadata": {
    "ExecuteTime": {
     "end_time": "2022-09-21T07:19:34.311985Z",
     "start_time": "2022-09-21T07:19:34.296843Z"
    }
   },
   "outputs": [
    {
     "data": {
      "text/plain": [
       "[2, 4, 4, 5, 6]"
      ]
     },
     "execution_count": 20,
     "metadata": {},
     "output_type": "execute_result"
    }
   ],
   "source": [
    "data.sort()\n",
    "data"
   ]
  },
  {
   "cell_type": "code",
   "execution_count": 28,
   "id": "cb5089f5",
   "metadata": {
    "ExecuteTime": {
     "end_time": "2022-09-21T07:22:38.772418Z",
     "start_time": "2022-09-21T07:22:38.747876Z"
    }
   },
   "outputs": [
    {
     "name": "stdout",
     "output_type": "stream",
     "text": [
      "46\n"
     ]
    }
   ],
   "source": [
    "''' 개인 '''\n",
    "\n",
    "result = 0\n",
    "\n",
    "x = 1\n",
    "y = 1\n",
    "\n",
    "for i in range(m):\n",
    "    if x <= k :\n",
    "        result += data[n-y]\n",
    "        x += 1\n",
    "    else :\n",
    "        y += 1\n",
    "        result += data[n-y]\n",
    "        x = 1\n",
    "        y = 1\n",
    "        \n",
    "print(result)"
   ]
  },
  {
   "cell_type": "markdown",
   "id": "9c83b0c6",
   "metadata": {},
   "source": [
    "#### 책 풀이"
   ]
  },
  {
   "cell_type": "code",
   "execution_count": 2,
   "id": "28866c41",
   "metadata": {
    "ExecuteTime": {
     "end_time": "2022-09-22T00:53:47.024072Z",
     "start_time": "2022-09-22T00:53:38.043379Z"
    }
   },
   "outputs": [
    {
     "name": "stdout",
     "output_type": "stream",
     "text": [
      "5 8 3\n",
      "2 4 5 4 6\n",
      "46\n"
     ]
    }
   ],
   "source": [
    "# 어차피 사용되는 숫자는 가장 큰 수와 두 번째로 큰수이기 때문에 변수로 지정한 후 계산\n",
    "\n",
    "n, m, k = map(int , input().split())\n",
    "data = list(map(int,input().split()))\n",
    "\n",
    "data.sort()\n",
    "first = data[n-1]\n",
    "second = data[n-2]\n",
    "\n",
    "result = 0\n",
    "\n",
    "while True :\n",
    "    for _ in range(k) : # 가장 큰 수를 k번 더하기\n",
    "        if m == 0 :\n",
    "            break\n",
    "        result += first\n",
    "        m -= 1\n",
    "        \n",
    "    if m == 0 :\n",
    "        break\n",
    "    \n",
    "    result += second\n",
    "    m -= 1\n",
    "\n",
    "print(result)"
   ]
  },
  {
   "cell_type": "markdown",
   "id": "fc86d447",
   "metadata": {},
   "source": [
    "### V2"
   ]
  },
  {
   "cell_type": "code",
   "execution_count": 3,
   "id": "76eab424",
   "metadata": {
    "ExecuteTime": {
     "end_time": "2022-09-22T00:56:42.433693Z",
     "start_time": "2022-09-22T00:56:32.145219Z"
    }
   },
   "outputs": [
    {
     "name": "stdout",
     "output_type": "stream",
     "text": [
      "5 8 3\n",
      "2 4 5 4 6\n",
      "46\n"
     ]
    }
   ],
   "source": [
    "''' 계산 '''\n",
    "# 반복되는 수열에 대해서 생각\n",
    "# 위 수열은 6 6 6 5 가 반복\n",
    "\n",
    "# 가장 큰 수 개수 구하기\n",
    "## int(m/(k+1)) : 반복되는 수열의 개수\n",
    "## int(m/(k+1)) * k : m 이 k+1개로 딱 떨어질 때 가장 큰 수의 개수\n",
    "## m % (K+1) : m 이 k+1개로 딱 떨어지지 않을 때 추가로 나오는 가장 큰 수의 개수\n",
    "### 따라서 가장 큰 수의 개수 = int(m / (k+1)) * k + m % (k+1)\n",
    "\n",
    "# 두 번째 큰 수 개수 : m - 가장 큰 수 개수 \n",
    "\n",
    "n, m, k = map(int , input().split())\n",
    "data = list(map(int,input().split()))\n",
    "\n",
    "data.sort()\n",
    "first = data[n-1]\n",
    "second = data[n-2]\n",
    "\n",
    "result = 0\n",
    "\n",
    "# 가장 큰 수의 개수 구하기\n",
    "count = int(m/(k+1)) * k\n",
    "count += m % (k+1)\n",
    "\n",
    "result += count * first\n",
    "result += (m-count) * second\n",
    "\n",
    "print(result)"
   ]
  },
  {
   "cell_type": "markdown",
   "id": "f04eea69",
   "metadata": {},
   "source": [
    "## 숫자 카드 게임\n",
    "    - N * M 행렬로 이루어진 카드\n",
    "    - 각 행의 최솟값 중 가장 큰 값 출력\n",
    "    - 1 <= n, m <= 100\n",
    "    - 각 숫자는 1 이상 10,000 이하"
   ]
  },
  {
   "cell_type": "markdown",
   "id": "202a87c0",
   "metadata": {},
   "source": [
    "### V1"
   ]
  },
  {
   "cell_type": "markdown",
   "id": "db8a6616",
   "metadata": {},
   "source": [
    "#### 내 풀이"
   ]
  },
  {
   "cell_type": "code",
   "execution_count": 26,
   "id": "a6fd186d",
   "metadata": {
    "ExecuteTime": {
     "end_time": "2022-09-22T01:27:05.085438Z",
     "start_time": "2022-09-22T01:26:53.203904Z"
    }
   },
   "outputs": [
    {
     "name": "stdout",
     "output_type": "stream",
     "text": [
      "3 3\n",
      "3 1 2\n",
      "4 1 4\n",
      "2 2 2\n",
      "2\n"
     ]
    }
   ],
   "source": [
    "n, m = map(int, input().split())\n",
    "data = []\n",
    "\n",
    "for _ in range(n):\n",
    "    data.append(list(map(int, input().split())))\n",
    "\n",
    "result = 0\n",
    "\n",
    "for i in range(n) :\n",
    "    if i == 0 :\n",
    "        result = min(data[i])\n",
    "    else :\n",
    "        if result < min(data[i]) :\n",
    "            result = min(data[i])\n",
    "            \n",
    "print(result)"
   ]
  },
  {
   "cell_type": "markdown",
   "id": "603a4729",
   "metadata": {},
   "source": [
    "#### 책 풀이"
   ]
  },
  {
   "cell_type": "code",
   "execution_count": 30,
   "id": "904cdfec",
   "metadata": {
    "ExecuteTime": {
     "end_time": "2022-09-22T01:35:21.930027Z",
     "start_time": "2022-09-22T01:35:12.957256Z"
    }
   },
   "outputs": [
    {
     "name": "stdout",
     "output_type": "stream",
     "text": [
      "3 3\n",
      "3 1 2\n",
      "4 1 4\n",
      "2 2 2\n",
      "2\n"
     ]
    }
   ],
   "source": [
    "# V1\n",
    "\n",
    "n, m = map(int, input().split())\n",
    "\n",
    "result = 0\n",
    "\n",
    "# 한 줄씩 받아서 비교\n",
    "for i in range(n) :\n",
    "    data = list(map(int,input().split()))\n",
    "    \n",
    "    min_value = min(data)\n",
    "    \n",
    "    result = max(result, min_value)\n",
    "\n",
    "print(result)"
   ]
  },
  {
   "cell_type": "code",
   "execution_count": 31,
   "id": "2d149e73",
   "metadata": {
    "ExecuteTime": {
     "end_time": "2022-09-22T01:39:47.182477Z",
     "start_time": "2022-09-22T01:39:36.259216Z"
    }
   },
   "outputs": [
    {
     "name": "stdout",
     "output_type": "stream",
     "text": [
      "3 3\n",
      "3 1 2\n",
      "4 1 4\n",
      "2 2 2\n",
      "2\n"
     ]
    }
   ],
   "source": [
    "# V2\n",
    "\n",
    "n, m = map(int, input().split())\n",
    "\n",
    "result = 0\n",
    "\n",
    "for i in range(n) :\n",
    "    data = list(map(int,input().split()))\n",
    "    \n",
    "    min_value = 10001 # 조건에 1부터 10000까지 숫자였기 때문에 10001로 설정\n",
    "    \n",
    "    for a in data :\n",
    "        min_value = min(min_value, a)\n",
    "    \n",
    "    result = max(result, min_value)\n",
    "    \n",
    "print(result)"
   ]
  },
  {
   "cell_type": "markdown",
   "id": "b4e1c428",
   "metadata": {},
   "source": [
    "## 1이 될 때까지\n",
    "    - 1 을 뺴기\n",
    "    - N을 K로 나누기\n",
    "    - 그래서 값이 1이 될 때 가장 적은 횟수 구하기"
   ]
  },
  {
   "cell_type": "markdown",
   "id": "14e01eda",
   "metadata": {},
   "source": [
    "### V1"
   ]
  },
  {
   "cell_type": "code",
   "execution_count": 43,
   "id": "f64ebb2d",
   "metadata": {
    "ExecuteTime": {
     "end_time": "2022-09-22T02:35:09.999246Z",
     "start_time": "2022-09-22T02:35:08.974507Z"
    }
   },
   "outputs": [
    {
     "name": "stdout",
     "output_type": "stream",
     "text": [
      "25 5\n",
      "2\n"
     ]
    }
   ],
   "source": [
    "n, k = map(int, input().split())\n",
    "\n",
    "count = 0\n",
    "\n",
    "while True :\n",
    "\n",
    "    if n == 1 :\n",
    "        break\n",
    "    elif int(n/k) * k == n :\n",
    "        n /= k\n",
    "        count += 1\n",
    "    else :\n",
    "        n -= 1\n",
    "        count += 1\n",
    "\n",
    "print(count)"
   ]
  },
  {
   "cell_type": "markdown",
   "id": "2e15c6ba",
   "metadata": {},
   "source": [
    "### V2"
   ]
  },
  {
   "cell_type": "code",
   "execution_count": 46,
   "id": "6900b0bf",
   "metadata": {
    "ExecuteTime": {
     "end_time": "2022-09-22T02:43:18.362046Z",
     "start_time": "2022-09-22T02:43:13.813736Z"
    }
   },
   "outputs": [
    {
     "name": "stdout",
     "output_type": "stream",
     "text": [
      "25 5\n",
      "2\n"
     ]
    }
   ],
   "source": [
    "n, k = map(int, input().split())\n",
    "result = 0\n",
    "\n",
    "while True :\n",
    "    target = (n//k) * k # 배수를 찾은 뒤\n",
    "    result += (n-target) # 배수까지 가기 위한 1을 빼준 개수를 더한 후\n",
    "    n = target # n을 배수까지 이동시킨 후\n",
    "    if n < k :\n",
    "        break\n",
    "    n //= k # 배수로 나눈 후\n",
    "    result += 1 # 나눴기 때문에 1을 더해준다.\n",
    "    \n",
    "result += (n-1) # n을 배수로 설정 후 계속 나눠준 후 나온 n값은 k보다 작기 때문에 1까지 빼준 횟수를 더해줘야 한다..\n",
    "print(result)"
   ]
  }
 ],
 "metadata": {
  "hide_input": false,
  "kernelspec": {
   "display_name": "Python 3 (ipykernel)",
   "language": "python",
   "name": "python3"
  },
  "language_info": {
   "codemirror_mode": {
    "name": "ipython",
    "version": 3
   },
   "file_extension": ".py",
   "mimetype": "text/x-python",
   "name": "python",
   "nbconvert_exporter": "python",
   "pygments_lexer": "ipython3",
   "version": "3.9.13"
  },
  "toc": {
   "base_numbering": 1,
   "nav_menu": {},
   "number_sections": true,
   "sideBar": true,
   "skip_h1_title": false,
   "title_cell": "Table of Contents",
   "title_sidebar": "Contents",
   "toc_cell": false,
   "toc_position": {},
   "toc_section_display": true,
   "toc_window_display": true
  }
 },
 "nbformat": 4,
 "nbformat_minor": 5
}
