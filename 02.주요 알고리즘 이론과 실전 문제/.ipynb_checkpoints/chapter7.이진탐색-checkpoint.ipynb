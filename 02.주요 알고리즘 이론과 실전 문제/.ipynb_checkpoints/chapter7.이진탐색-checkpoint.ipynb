{
 "cells": [
  {
   "cell_type": "markdown",
   "id": "38330786",
   "metadata": {},
   "source": [
    "# 순차탐색\n",
    "    - 리스트 안에 있는 특정한 데이터를 찾기 위해 앞에서부터 데이터를 하나씩 차례대로 확인하는 방법"
   ]
  },
  {
   "cell_type": "code",
   "execution_count": 1,
   "id": "ca1845cb",
   "metadata": {
    "ExecuteTime": {
     "end_time": "2022-10-11T04:24:11.679282Z",
     "start_time": "2022-10-11T04:24:11.667036Z"
    }
   },
   "outputs": [],
   "source": [
    "def sequential_search(n, target, array):\n",
    "    for i in range(n):\n",
    "        if array[i] == target:\n",
    "            return i + 1"
   ]
  },
  {
   "cell_type": "code",
   "execution_count": 2,
   "id": "f3460eec",
   "metadata": {
    "ExecuteTime": {
     "end_time": "2022-10-11T04:25:18.372177Z",
     "start_time": "2022-10-11T04:25:12.282526Z"
    }
   },
   "outputs": [
    {
     "name": "stdout",
     "output_type": "stream",
     "text": [
      "생성할 원소 개수를 입력한 다음 한 칸 띄고 찾을 문자열을 입력하세요\n",
      "5 Dongbin\n"
     ]
    }
   ],
   "source": [
    "print(\"생성할 원소 개수를 입력한 다음 한 칸 띄고 찾을 문자열을 입력하세요\")\n",
    "input_data = input().split()\n",
    "n = int(input_data[0])\n",
    "target = input_data[1]"
   ]
  },
  {
   "cell_type": "code",
   "execution_count": 4,
   "id": "f49cc55c",
   "metadata": {
    "ExecuteTime": {
     "end_time": "2022-10-11T04:27:18.144275Z",
     "start_time": "2022-10-11T04:27:16.966435Z"
    }
   },
   "outputs": [
    {
     "name": "stdout",
     "output_type": "stream",
     "text": [
      "앞서 적은 원소 개수만큼 문자열을 입력하세요. 구분은 띄어쓰기 한 칸으로 합니다.\n",
      "Hanul Jonggu Dongbin Taeil Sangwook\n",
      "3\n"
     ]
    }
   ],
   "source": [
    "print(\"앞서 적은 원소 개수만큼 문자열을 입력하세요. 구분은 띄어쓰기 한 칸으로 합니다.\")\n",
    "array = input().split()\n",
    "\n",
    "print(sequential_search(n, target, array))"
   ]
  },
  {
   "cell_type": "markdown",
   "id": "0eeae691",
   "metadata": {},
   "source": [
    "# 이진탐색\n",
    "    - 시작점, 끝점, 중간점 사용\n",
    "    - 찾으려는 데이터와 중간점 위치에 있는 데이터를 반복적으로 비교"
   ]
  },
  {
   "cell_type": "code",
   "execution_count": 5,
   "id": "f85b4c59",
   "metadata": {
    "ExecuteTime": {
     "end_time": "2022-10-11T04:34:06.664072Z",
     "start_time": "2022-10-11T04:34:06.657638Z"
    }
   },
   "outputs": [],
   "source": [
    "def binary_search(array, target, start, end):\n",
    "    if start > end :\n",
    "        return None\n",
    "    \n",
    "    mid = (start + end) // 2\n",
    "    \n",
    "    if array[mid] == target :\n",
    "        return mid\n",
    "    elif array[mid] > target :\n",
    "        return binary_search(array, target, start, mid-1)\n",
    "    else :\n",
    "        return binary_search(array, target, mid+1, end)"
   ]
  },
  {
   "cell_type": "code",
   "execution_count": 6,
   "id": "143f0abe",
   "metadata": {
    "ExecuteTime": {
     "end_time": "2022-10-11T04:35:06.765778Z",
     "start_time": "2022-10-11T04:34:51.024131Z"
    }
   },
   "outputs": [
    {
     "name": "stdout",
     "output_type": "stream",
     "text": [
      "10 7\n",
      "1 3 5 7 9 11 13 15 17 19\n"
     ]
    }
   ],
   "source": [
    "n, target = list(map(int, input().split()))\n",
    "array = list(map(int, input().split()))"
   ]
  },
  {
   "cell_type": "code",
   "execution_count": 7,
   "id": "d1c66b88",
   "metadata": {
    "ExecuteTime": {
     "end_time": "2022-10-11T04:36:17.263213Z",
     "start_time": "2022-10-11T04:36:17.242158Z"
    }
   },
   "outputs": [
    {
     "name": "stdout",
     "output_type": "stream",
     "text": [
      "4\n"
     ]
    }
   ],
   "source": [
    "result = binary_search(array, target, 0, n-1)\n",
    "\n",
    "if result == None :\n",
    "    print('원소가 존재하지 않습니다.')\n",
    "else :\n",
    "    print(result+1)"
   ]
  },
  {
   "cell_type": "markdown",
   "id": "617058dd",
   "metadata": {},
   "source": [
    "# 빠르게 입력받기"
   ]
  },
  {
   "cell_type": "markdown",
   "id": "2d862f72",
   "metadata": {
    "ExecuteTime": {
     "end_time": "2022-10-11T04:40:15.648130Z",
     "start_time": "2022-10-11T04:40:15.630053Z"
    }
   },
   "source": [
    "import sys\n",
    "\n",
    "input_data = sys.stdin.readline().rstrip()\n",
    "\n",
    "print(input_data)"
   ]
  }
 ],
 "metadata": {
  "hide_input": false,
  "kernelspec": {
   "display_name": "Python 3 (ipykernel)",
   "language": "python",
   "name": "python3"
  },
  "language_info": {
   "codemirror_mode": {
    "name": "ipython",
    "version": 3
   },
   "file_extension": ".py",
   "mimetype": "text/x-python",
   "name": "python",
   "nbconvert_exporter": "python",
   "pygments_lexer": "ipython3",
   "version": "3.9.13"
  },
  "toc": {
   "base_numbering": 1,
   "nav_menu": {},
   "number_sections": true,
   "sideBar": true,
   "skip_h1_title": false,
   "title_cell": "Table of Contents",
   "title_sidebar": "Contents",
   "toc_cell": false,
   "toc_position": {},
   "toc_section_display": true,
   "toc_window_display": false
  }
 },
 "nbformat": 4,
 "nbformat_minor": 5
}
