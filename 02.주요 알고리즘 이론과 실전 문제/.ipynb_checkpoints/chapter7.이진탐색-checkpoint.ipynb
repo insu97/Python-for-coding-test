{
 "cells": [
  {
   "cell_type": "markdown",
   "id": "38330786",
   "metadata": {},
   "source": [
    "# 순차탐색\n",
    "    - 리스트 안에 있는 특정한 데이터를 찾기 위해 앞에서부터 데이터를 하나씩 차례대로 확인하는 방법"
   ]
  },
  {
   "cell_type": "code",
   "execution_count": 1,
   "id": "ca1845cb",
   "metadata": {
    "ExecuteTime": {
     "end_time": "2022-10-11T04:24:11.679282Z",
     "start_time": "2022-10-11T04:24:11.667036Z"
    }
   },
   "outputs": [],
   "source": [
    "def sequential_search(n, target, array):\n",
    "    for i in range(n):\n",
    "        if array[i] == target:\n",
    "            return i + 1"
   ]
  },
  {
   "cell_type": "code",
   "execution_count": 2,
   "id": "f3460eec",
   "metadata": {
    "ExecuteTime": {
     "end_time": "2022-10-11T04:25:18.372177Z",
     "start_time": "2022-10-11T04:25:12.282526Z"
    }
   },
   "outputs": [
    {
     "name": "stdout",
     "output_type": "stream",
     "text": [
      "생성할 원소 개수를 입력한 다음 한 칸 띄고 찾을 문자열을 입력하세요\n",
      "5 Dongbin\n"
     ]
    }
   ],
   "source": [
    "print(\"생성할 원소 개수를 입력한 다음 한 칸 띄고 찾을 문자열을 입력하세요\")\n",
    "input_data = input().split()\n",
    "n = int(input_data[0])\n",
    "target = input_data[1]"
   ]
  },
  {
   "cell_type": "code",
   "execution_count": 4,
   "id": "f49cc55c",
   "metadata": {
    "ExecuteTime": {
     "end_time": "2022-10-11T04:27:18.144275Z",
     "start_time": "2022-10-11T04:27:16.966435Z"
    }
   },
   "outputs": [
    {
     "name": "stdout",
     "output_type": "stream",
     "text": [
      "앞서 적은 원소 개수만큼 문자열을 입력하세요. 구분은 띄어쓰기 한 칸으로 합니다.\n",
      "Hanul Jonggu Dongbin Taeil Sangwook\n",
      "3\n"
     ]
    }
   ],
   "source": [
    "print(\"앞서 적은 원소 개수만큼 문자열을 입력하세요. 구분은 띄어쓰기 한 칸으로 합니다.\")\n",
    "array = input().split()\n",
    "\n",
    "print(sequential_search(n, target, array))"
   ]
  },
  {
   "cell_type": "markdown",
   "id": "0eeae691",
   "metadata": {},
   "source": [
    "# 이진탐색\n",
    "    - 시작점, 끝점, 중간점 사용\n",
    "    - 찾으려는 데이터와 중간점 위치에 있는 데이터를 반복적으로 비교"
   ]
  },
  {
   "cell_type": "code",
   "execution_count": 5,
   "id": "f85b4c59",
   "metadata": {
    "ExecuteTime": {
     "end_time": "2022-10-11T04:34:06.664072Z",
     "start_time": "2022-10-11T04:34:06.657638Z"
    }
   },
   "outputs": [],
   "source": [
    "def binary_search(array, target, start, end):\n",
    "    if start > end :\n",
    "        return None\n",
    "    \n",
    "    mid = (start + end) // 2\n",
    "    \n",
    "    if array[mid] == target :\n",
    "        return mid\n",
    "    elif array[mid] > target :\n",
    "        return binary_search(array, target, start, mid-1)\n",
    "    else :\n",
    "        return binary_search(array, target, mid+1, end)"
   ]
  },
  {
   "cell_type": "code",
   "execution_count": 6,
   "id": "143f0abe",
   "metadata": {
    "ExecuteTime": {
     "end_time": "2022-10-11T04:35:06.765778Z",
     "start_time": "2022-10-11T04:34:51.024131Z"
    }
   },
   "outputs": [
    {
     "name": "stdout",
     "output_type": "stream",
     "text": [
      "10 7\n",
      "1 3 5 7 9 11 13 15 17 19\n"
     ]
    }
   ],
   "source": [
    "n, target = list(map(int, input().split()))\n",
    "array = list(map(int, input().split()))"
   ]
  },
  {
   "cell_type": "code",
   "execution_count": 7,
   "id": "d1c66b88",
   "metadata": {
    "ExecuteTime": {
     "end_time": "2022-10-11T04:36:17.263213Z",
     "start_time": "2022-10-11T04:36:17.242158Z"
    }
   },
   "outputs": [
    {
     "name": "stdout",
     "output_type": "stream",
     "text": [
      "4\n"
     ]
    }
   ],
   "source": [
    "result = binary_search(array, target, 0, n-1)\n",
    "\n",
    "if result == None :\n",
    "    print('원소가 존재하지 않습니다.')\n",
    "else :\n",
    "    print(result+1)"
   ]
  },
  {
   "cell_type": "markdown",
   "id": "a241c990",
   "metadata": {},
   "source": [
    "# 부품 찾기\n",
    "    - n : 몇 개의 부품\n",
    "    - array : 부품 번호\n",
    "    - m : 찾을 부품의 수\n",
    "    - x : 찾을 부품 번호\n",
    "    - 있으면 yes, 없으면 no"
   ]
  },
  {
   "cell_type": "markdown",
   "id": "580d5e0e",
   "metadata": {},
   "source": [
    "## 이진탐색"
   ]
  },
  {
   "cell_type": "code",
   "execution_count": 1,
   "id": "788c176f",
   "metadata": {
    "ExecuteTime": {
     "end_time": "2022-10-12T05:28:38.674552Z",
     "start_time": "2022-10-12T05:28:38.651961Z"
    }
   },
   "outputs": [],
   "source": [
    "def binary_search(array, target, start, end) :\n",
    "    while start <= end :\n",
    "        mid = (start+end) // 2\n",
    "        \n",
    "        if array[mid] == target :\n",
    "            return mid\n",
    "        elif array[mid] > target :\n",
    "            end = mid-1\n",
    "        else :\n",
    "            start = mid+1\n",
    "    return None"
   ]
  },
  {
   "cell_type": "code",
   "execution_count": 3,
   "id": "db9a58ea",
   "metadata": {
    "ExecuteTime": {
     "end_time": "2022-10-12T05:31:19.533127Z",
     "start_time": "2022-10-12T05:31:10.899607Z"
    }
   },
   "outputs": [
    {
     "name": "stdout",
     "output_type": "stream",
     "text": [
      "5\n",
      "8 3 7 9 2\n",
      "3\n",
      "5 7 9\n",
      "no yes yes "
     ]
    }
   ],
   "source": [
    "n = int(input())\n",
    "array = list(map(int, input().split()))\n",
    "array.sort()\n",
    "m = int(input())\n",
    "x = list(map(int, input().split()))\n",
    "\n",
    "for i in x :\n",
    "    result = binary_search(array, i, 0, n-1)\n",
    "    \n",
    "    if result != None :\n",
    "        print('yes',end = ' ')\n",
    "    else :\n",
    "        print('no', end= ' ')"
   ]
  },
  {
   "cell_type": "markdown",
   "id": "5de85ee6",
   "metadata": {},
   "source": [
    "## 계수 정렬"
   ]
  },
  {
   "cell_type": "code",
   "execution_count": 4,
   "id": "25eb73ff",
   "metadata": {
    "ExecuteTime": {
     "end_time": "2022-10-12T05:45:15.938274Z",
     "start_time": "2022-10-12T05:44:55.793587Z"
    }
   },
   "outputs": [
    {
     "name": "stdout",
     "output_type": "stream",
     "text": [
      "5\n",
      "8 3 7 9 2\n",
      "3\n",
      "5 7 9\n",
      "no yes yes "
     ]
    }
   ],
   "source": [
    "n = int(input())\n",
    "array = [0] * 1000001\n",
    "\n",
    "for i in input().split():\n",
    "    array[int(i)] = 1\n",
    "\n",
    "m = int(input())\n",
    "x = list(map(int, input().split()))\n",
    "\n",
    "for i in x :\n",
    "    if array[i] == 1 :\n",
    "        print('yes',end = ' ')\n",
    "    else :\n",
    "        print('no', end= ' ')"
   ]
  },
  {
   "cell_type": "markdown",
   "id": "4cb1b916",
   "metadata": {},
   "source": [
    "## 집합 자료형"
   ]
  },
  {
   "cell_type": "code",
   "execution_count": 5,
   "id": "2a993aeb",
   "metadata": {
    "ExecuteTime": {
     "end_time": "2022-10-12T05:53:53.048397Z",
     "start_time": "2022-10-12T05:53:42.056447Z"
    }
   },
   "outputs": [
    {
     "name": "stdout",
     "output_type": "stream",
     "text": [
      "5\n",
      "8 3 7 9 2\n",
      "3\n",
      "5 7 9\n",
      "no yes yes "
     ]
    }
   ],
   "source": [
    "n = int(input())\n",
    "array = set(map(int, input().split()))\n",
    "\n",
    "m = int(input())\n",
    "x = list(map(int, input().split()))\n",
    "\n",
    "for i in x :\n",
    "    if i in array :\n",
    "        print('yes', end = ' ')\n",
    "    else :\n",
    "        print('no', end = ' ')"
   ]
  },
  {
   "cell_type": "markdown",
   "id": "997abce8",
   "metadata": {},
   "source": [
    "# 떡볶이 떡 만들기"
   ]
  },
  {
   "cell_type": "code",
   "execution_count": 8,
   "id": "c88762e2",
   "metadata": {
    "ExecuteTime": {
     "end_time": "2022-10-12T06:23:11.490799Z",
     "start_time": "2022-10-12T06:22:58.031855Z"
    }
   },
   "outputs": [
    {
     "name": "stdout",
     "output_type": "stream",
     "text": [
      "4 6\n",
      "19 15 10 17\n",
      "15\n"
     ]
    }
   ],
   "source": [
    "n, m = list(map(int, input().split(' ')))\n",
    "array = list(map(int, input().split()))\n",
    "\n",
    "start = 0\n",
    "end = max(array)\n",
    "\n",
    "result = 0\n",
    "while(start <= end) :\n",
    "    \n",
    "    total = 0\n",
    "    mid = (start+end) // 2\n",
    "        \n",
    "    for x in array:\n",
    "        if x > mid :\n",
    "            total += x - mid\n",
    "    \n",
    "    if total < m :\n",
    "        end = mid - 1\n",
    "    else :\n",
    "        result = mid\n",
    "        start = mid + 1\n",
    "\n",
    "print(result)"
   ]
  },
  {
   "cell_type": "markdown",
   "id": "617058dd",
   "metadata": {},
   "source": [
    "# 빠르게 입력받기"
   ]
  },
  {
   "cell_type": "markdown",
   "id": "2d862f72",
   "metadata": {
    "ExecuteTime": {
     "end_time": "2022-10-11T04:40:15.648130Z",
     "start_time": "2022-10-11T04:40:15.630053Z"
    }
   },
   "source": [
    "import sys\n",
    "\n",
    "input_data = sys.stdin.readline().rstrip()\n",
    "\n",
    "print(input_data)"
   ]
  }
 ],
 "metadata": {
  "hide_input": false,
  "kernelspec": {
   "display_name": "Python 3 (ipykernel)",
   "language": "python",
   "name": "python3"
  },
  "language_info": {
   "codemirror_mode": {
    "name": "ipython",
    "version": 3
   },
   "file_extension": ".py",
   "mimetype": "text/x-python",
   "name": "python",
   "nbconvert_exporter": "python",
   "pygments_lexer": "ipython3",
   "version": "3.9.13"
  },
  "toc": {
   "base_numbering": 1,
   "nav_menu": {},
   "number_sections": true,
   "sideBar": true,
   "skip_h1_title": false,
   "title_cell": "Table of Contents",
   "title_sidebar": "Contents",
   "toc_cell": false,
   "toc_position": {},
   "toc_section_display": true,
   "toc_window_display": false
  },
  "varInspector": {
   "cols": {
    "lenName": 16,
    "lenType": 16,
    "lenVar": 40
   },
   "kernels_config": {
    "python": {
     "delete_cmd_postfix": "",
     "delete_cmd_prefix": "del ",
     "library": "var_list.py",
     "varRefreshCmd": "print(var_dic_list())"
    },
    "r": {
     "delete_cmd_postfix": ") ",
     "delete_cmd_prefix": "rm(",
     "library": "var_list.r",
     "varRefreshCmd": "cat(var_dic_list()) "
    }
   },
   "types_to_exclude": [
    "module",
    "function",
    "builtin_function_or_method",
    "instance",
    "_Feature"
   ],
   "window_display": false
  }
 },
 "nbformat": 4,
 "nbformat_minor": 5
}
