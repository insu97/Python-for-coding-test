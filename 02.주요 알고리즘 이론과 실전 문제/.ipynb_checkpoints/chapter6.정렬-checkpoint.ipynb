{
 "cells": [
  {
   "cell_type": "markdown",
   "id": "d9629443",
   "metadata": {},
   "source": [
    "# 선택 정렬\n",
    "    - 데이터 중 가장 작은 것을 선택하여 맨 앞에 있는 데이터와 바꾸고\n",
    "    - 다음 두 번째로 가장 작은 것을 선택하여 앞에서 두 번째 위치한 데이터와 바꾸는 방식"
   ]
  },
  {
   "cell_type": "code",
   "execution_count": 2,
   "id": "bab47ca1",
   "metadata": {
    "ExecuteTime": {
     "end_time": "2022-10-04T04:33:28.827387Z",
     "start_time": "2022-10-04T04:33:28.809321Z"
    }
   },
   "outputs": [
    {
     "name": "stdout",
     "output_type": "stream",
     "text": [
      "[0, 1, 2, 3, 4, 5, 6, 7, 8, 9]\n"
     ]
    }
   ],
   "source": [
    "# 예제\n",
    "array = [7, 5, 9, 0, 3, 1, 6, 2, 4, 8]\n",
    "\n",
    "for i in range(len(array)):\n",
    "    min_index = i\n",
    "    for j in range(i+1, len(array)):\n",
    "        if array[min_index] > array[j] :\n",
    "            min_index = j\n",
    "    array[i], array[min_index] = array[min_index], array[i]\n",
    "\n",
    "print(array)"
   ]
  },
  {
   "cell_type": "markdown",
   "id": "7750c2b0",
   "metadata": {},
   "source": [
    "# 삽입 정렬\n",
    "    - 특정한 데이터를 적절한 위치에 삽입"
   ]
  },
  {
   "cell_type": "code",
   "execution_count": 5,
   "id": "a107612c",
   "metadata": {
    "ExecuteTime": {
     "end_time": "2022-10-04T04:40:38.594710Z",
     "start_time": "2022-10-04T04:40:38.582400Z"
    }
   },
   "outputs": [
    {
     "name": "stdout",
     "output_type": "stream",
     "text": [
      "[0, 1, 2, 3, 4, 5, 6, 7, 8, 9]\n"
     ]
    }
   ],
   "source": [
    "array = [7, 5, 9, 0, 3, 1, 6, 2, 4, 8]\n",
    "\n",
    "for i in range(1, len(array)):\n",
    "    for j in range(i, 0, -1):\n",
    "        if array[j] < array[j-1]:\n",
    "            array[j], array[j-1] = array[j-1], array[j]\n",
    "        else :\n",
    "            break\n",
    "\n",
    "print(array)"
   ]
  },
  {
   "cell_type": "markdown",
   "id": "c227cba4",
   "metadata": {},
   "source": [
    "# 퀵 정렬\n",
    "    - 기준 데이터(피벗)를 설정하고 그 기준보다 큰 데이터와 작은 데이터의 위치를 바꾸는 방법"
   ]
  },
  {
   "cell_type": "markdown",
   "id": "73329bdf",
   "metadata": {},
   "source": [
    "## 전통 퀵 정렬"
   ]
  },
  {
   "cell_type": "code",
   "execution_count": 7,
   "id": "bb6b9417",
   "metadata": {
    "ExecuteTime": {
     "end_time": "2022-10-04T05:12:32.582828Z",
     "start_time": "2022-10-04T05:12:32.569732Z"
    }
   },
   "outputs": [
    {
     "name": "stdout",
     "output_type": "stream",
     "text": [
      "[0, 1, 2, 3, 4, 5, 6, 7, 8, 9]\n"
     ]
    }
   ],
   "source": [
    "array = [5, 7, 9, 0, 3, 1, 6, 2, 4, 8]\n",
    "\n",
    "def quick_sort(array, start, end):\n",
    "    \n",
    "    if start >= end :\n",
    "        return\n",
    "    \n",
    "    pivot = start\n",
    "    left = start + 1\n",
    "    right = end\n",
    "    \n",
    "    while left <= right :\n",
    "        \n",
    "        while left <= end and array[left] <= array[pivot]:\n",
    "            left += 1\n",
    "        \n",
    "        while right > start and array[right] >= array[pivot]:\n",
    "            right -= 1\n",
    "        \n",
    "        if left > right:\n",
    "            array[right], array[pivot] = array[pivot], array[right]\n",
    "        else :\n",
    "            array[left], array[right] = array[right], array[left]\n",
    "    \n",
    "    quick_sort(array, start, right-1)\n",
    "    quick_sort(array, right+1, end)\n",
    "\n",
    "quick_sort(array, 0, len(array)-1)\n",
    "print(array)"
   ]
  },
  {
   "cell_type": "markdown",
   "id": "0db70f3c",
   "metadata": {},
   "source": [
    "## 파이썬의 장점을 살린 퀵 정렬"
   ]
  },
  {
   "cell_type": "code",
   "execution_count": 12,
   "id": "ee8f6996",
   "metadata": {
    "ExecuteTime": {
     "end_time": "2022-10-04T05:18:12.162708Z",
     "start_time": "2022-10-04T05:18:12.154230Z"
    }
   },
   "outputs": [
    {
     "name": "stdout",
     "output_type": "stream",
     "text": [
      "[0, 3, 1, 2, 4] 5 [7, 9, 6, 8]\n",
      "[] 0 [3, 1, 2, 4]\n",
      "[1, 2] 3 [4]\n",
      "[] 1 [2]\n",
      "[6] 7 [9, 8]\n",
      "[8] 9 []\n",
      "[0, 1, 2, 3, 4, 5, 6, 7, 8, 9]\n"
     ]
    }
   ],
   "source": [
    "array = [5, 7, 9, 0, 3, 1, 6, 2, 4, 8]\n",
    "\n",
    "def quick_sort(array):\n",
    "    if len(array) <= 1:\n",
    "        return array\n",
    "    \n",
    "    pivot = array[0]\n",
    "    tail = array[1:]\n",
    "    \n",
    "    left_side = [x for x in tail if x <= pivot]\n",
    "    right_side = [x for x in tail if x > pivot]\n",
    "    \n",
    "    return quick_sort(left_side) + [pivot] + quick_sort(right_side)\n",
    "\n",
    "print(quick_sort(array))"
   ]
  },
  {
   "cell_type": "markdown",
   "id": "d97c492f",
   "metadata": {},
   "source": [
    "# 계수 정렬\n",
    "    - 특정한 상황에서 사용할 수 있는 방법"
   ]
  },
  {
   "cell_type": "code",
   "execution_count": 14,
   "id": "84541814",
   "metadata": {
    "ExecuteTime": {
     "end_time": "2022-10-04T05:36:43.824642Z",
     "start_time": "2022-10-04T05:36:43.814513Z"
    }
   },
   "outputs": [
    {
     "name": "stdout",
     "output_type": "stream",
     "text": [
      "[0, 0, 0, 0, 0, 0, 0, 0, 0, 0]\n",
      "0 0 1 1 2 2 3 4 5 5 6 7 8 9 9 "
     ]
    }
   ],
   "source": [
    "array = [7, 5, 9, 0, 3, 1, 6, 2, 9, 1, 4, 8, 0, 5, 2]\n",
    "\n",
    "count = [0] * (max(array)+1)\n",
    "\n",
    "for i in range(len(array)):\n",
    "    count[array[i]] += 1\n",
    "    \n",
    "for i in range(len(count)):\n",
    "    for j in range(count[i]):\n",
    "        print(i, end=' ')"
   ]
  },
  {
   "cell_type": "markdown",
   "id": "1c9ec735",
   "metadata": {},
   "source": [
    "# 파이썬 내장함수"
   ]
  },
  {
   "cell_type": "code",
   "execution_count": 15,
   "id": "0a556521",
   "metadata": {
    "ExecuteTime": {
     "end_time": "2022-10-04T05:41:47.588280Z",
     "start_time": "2022-10-04T05:41:47.575269Z"
    }
   },
   "outputs": [
    {
     "name": "stdout",
     "output_type": "stream",
     "text": [
      "[0, 0, 1, 1, 2, 2, 3, 4, 5, 5, 6, 7, 8, 9, 9]\n"
     ]
    }
   ],
   "source": [
    "# 병합정렬\n",
    "array = [7, 5, 9, 0, 3, 1, 6, 2, 9, 1, 4, 8, 0, 5, 2]\n",
    "\n",
    "result = sorted(array)\n",
    "print(result)"
   ]
  },
  {
   "cell_type": "code",
   "execution_count": 16,
   "id": "7ec7c13d",
   "metadata": {
    "ExecuteTime": {
     "end_time": "2022-10-04T05:42:36.036793Z",
     "start_time": "2022-10-04T05:42:36.021587Z"
    }
   },
   "outputs": [
    {
     "name": "stdout",
     "output_type": "stream",
     "text": [
      "[0, 0, 1, 1, 2, 2, 3, 4, 5, 5, 6, 7, 8, 9, 9]\n"
     ]
    }
   ],
   "source": [
    "# 리스트 변수가 하나 있을 때 따로 반환하지 않고 바로 정렬\n",
    "array = [7, 5, 9, 0, 3, 1, 6, 2, 9, 1, 4, 8, 0, 5, 2]\n",
    "\n",
    "array.sort()\n",
    "print(array)"
   ]
  },
  {
   "cell_type": "code",
   "execution_count": 17,
   "id": "5dd6f63f",
   "metadata": {
    "ExecuteTime": {
     "end_time": "2022-10-04T05:45:12.186627Z",
     "start_time": "2022-10-04T05:45:12.176653Z"
    }
   },
   "outputs": [
    {
     "name": "stdout",
     "output_type": "stream",
     "text": [
      "[('바나나', 2), ('당근', 3), ('사과', 5)]\n"
     ]
    }
   ],
   "source": [
    "# key값 활용\n",
    "array = [('바나나', 2), ('사과', 5), ('당근', 3)]\n",
    "\n",
    "def setting(data):\n",
    "    return data[1]\n",
    "\n",
    "result = sorted(array, key = setting)\n",
    "print(result)"
   ]
  },
  {
   "cell_type": "markdown",
   "id": "b288abe6",
   "metadata": {},
   "source": [
    "# 문제"
   ]
  },
  {
   "cell_type": "markdown",
   "id": "58cb481a",
   "metadata": {},
   "source": [
    "## 위에서 아래로"
   ]
  },
  {
   "cell_type": "code",
   "execution_count": 1,
   "id": "672c3d49",
   "metadata": {
    "ExecuteTime": {
     "end_time": "2022-10-05T01:38:26.713264Z",
     "start_time": "2022-10-05T01:38:19.869529Z"
    }
   },
   "outputs": [
    {
     "name": "stdout",
     "output_type": "stream",
     "text": [
      "3\n",
      "15\n",
      "27\n",
      "12\n",
      "27 15 12 "
     ]
    }
   ],
   "source": [
    "n = int(input())\n",
    "\n",
    "array = []\n",
    "\n",
    "for i in range(n):\n",
    "    array.append(int(input()))\n",
    "\n",
    "array = sorted(array, reverse = True)\n",
    "\n",
    "for i in array:\n",
    "    print(i, end = ' ')"
   ]
  },
  {
   "cell_type": "markdown",
   "id": "bc575872",
   "metadata": {},
   "source": [
    "## 성적이 낮은 순서로 학생 출력하기"
   ]
  },
  {
   "cell_type": "code",
   "execution_count": 4,
   "id": "14fd66b4",
   "metadata": {
    "ExecuteTime": {
     "end_time": "2022-10-05T01:42:31.015855Z",
     "start_time": "2022-10-05T01:42:19.304950Z"
    }
   },
   "outputs": [
    {
     "name": "stdout",
     "output_type": "stream",
     "text": [
      "2\n",
      "홍길동 99\n",
      "이순신 77\n",
      "[('이순신', 77), ('홍길동', 99)]\n",
      "('홍길동', 95)\n",
      "이순신 홍길동 "
     ]
    }
   ],
   "source": [
    "n = int(input())\n",
    "\n",
    "array = []\n",
    "\n",
    "for i in range(n):\n",
    "    input_data = input().split()\n",
    "    array.append((input_data[0], int(input_data[1])))\n",
    "\n",
    "array = sorted(array, key = lambda student: student[1])\n",
    "\n",
    "print(array)\n",
    "print(student)\n",
    "\n",
    "for student in array :\n",
    "    print(student[0], end = ' ')"
   ]
  },
  {
   "cell_type": "markdown",
   "id": "10cd0c7c",
   "metadata": {},
   "source": [
    "## 두 배열의 원소 교체"
   ]
  },
  {
   "cell_type": "code",
   "execution_count": 5,
   "id": "6d9a748d",
   "metadata": {
    "ExecuteTime": {
     "end_time": "2022-10-05T01:53:09.609818Z",
     "start_time": "2022-10-05T01:52:57.450742Z"
    }
   },
   "outputs": [
    {
     "name": "stdout",
     "output_type": "stream",
     "text": [
      "5 3\n",
      "1 2 5 4 3\n",
      "5 5 6 6 5\n",
      "26\n"
     ]
    }
   ],
   "source": [
    "n, k = map(int, input().split())\n",
    "a = list(map(int, input().split()))\n",
    "b = list(map(int, input().split()))\n",
    "\n",
    "a.sort()\n",
    "b.sort(reverse = True)\n",
    "\n",
    "for i in range(k):\n",
    "    if a[i] < b[i] :\n",
    "        a[i], b[i] = b[i], a[i]\n",
    "    else :\n",
    "        break\n",
    "        \n",
    "print(sum(a))"
   ]
  }
 ],
 "metadata": {
  "hide_input": false,
  "kernelspec": {
   "display_name": "Python 3 (ipykernel)",
   "language": "python",
   "name": "python3"
  },
  "language_info": {
   "codemirror_mode": {
    "name": "ipython",
    "version": 3
   },
   "file_extension": ".py",
   "mimetype": "text/x-python",
   "name": "python",
   "nbconvert_exporter": "python",
   "pygments_lexer": "ipython3",
   "version": "3.9.13"
  },
  "toc": {
   "base_numbering": 1,
   "nav_menu": {},
   "number_sections": true,
   "sideBar": true,
   "skip_h1_title": false,
   "title_cell": "Table of Contents",
   "title_sidebar": "Contents",
   "toc_cell": false,
   "toc_position": {},
   "toc_section_display": true,
   "toc_window_display": true
  }
 },
 "nbformat": 4,
 "nbformat_minor": 5
}
