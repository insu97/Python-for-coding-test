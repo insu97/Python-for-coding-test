{
 "cells": [
  {
   "cell_type": "markdown",
   "id": "8fd519d2",
   "metadata": {},
   "source": [
    "# 꼭 필요한 자료구조 기초\n",
    "    - 탐색(search) : 많은 양의 데이터 중에서 원하는 데이터를 찾는 과정\n",
    "    - 자료 구조(Data Structure) : 데이터를 표현하고 관리하고 처리하기 위한 구조\n",
    "    - 삽입(push) / 삭제(pop)"
   ]
  },
  {
   "cell_type": "markdown",
   "id": "2e500806",
   "metadata": {},
   "source": [
    "## 스택\n",
    "    - 선입후출 구조"
   ]
  },
  {
   "cell_type": "code",
   "execution_count": 1,
   "id": "796bc31e",
   "metadata": {
    "ExecuteTime": {
     "end_time": "2022-09-27T04:55:02.879940Z",
     "start_time": "2022-09-27T04:55:02.854802Z"
    }
   },
   "outputs": [
    {
     "name": "stdout",
     "output_type": "stream",
     "text": [
      "[5, 2, 3]\n",
      "[3, 2, 5]\n"
     ]
    }
   ],
   "source": [
    "stack = []\n",
    "\n",
    "stack.append(5)\n",
    "stack.append(2)\n",
    "stack.append(7)\n",
    "stack.pop()\n",
    "stack.append(3)\n",
    "\n",
    "print(stack) # 최하단 원소부터 출력\n",
    "print(stack[::-1]) # 최상단 원소부터 출력"
   ]
  },
  {
   "cell_type": "markdown",
   "id": "171ee243",
   "metadata": {},
   "source": [
    "## 큐\n",
    "    - 선입선출 구조"
   ]
  },
  {
   "cell_type": "code",
   "execution_count": 2,
   "id": "43b89314",
   "metadata": {
    "ExecuteTime": {
     "end_time": "2022-09-27T04:55:03.659344Z",
     "start_time": "2022-09-27T04:55:03.650343Z"
    }
   },
   "outputs": [
    {
     "name": "stdout",
     "output_type": "stream",
     "text": [
      "deque([2, 3, 7])\n",
      "deque([7, 3, 2])\n"
     ]
    }
   ],
   "source": [
    "from collections import deque\n",
    "\n",
    "queue = deque()\n",
    "\n",
    "queue.append(5)\n",
    "queue.append(2)\n",
    "queue.append(3)\n",
    "queue.popleft()\n",
    "queue.append(7)\n",
    "\n",
    "print(queue) # 먼저 들어온 순서대로 출력\n",
    "queue.reverse() # 역순으로 바꾸기\n",
    "print(queue) # 나중에 들어온 순서대로 출력"
   ]
  },
  {
   "cell_type": "markdown",
   "id": "f74c6111",
   "metadata": {},
   "source": [
    "## 재귀함수\n",
    "    - 자기 자신을 다시 호출하는 함수"
   ]
  },
  {
   "cell_type": "code",
   "execution_count": 3,
   "id": "012d045c",
   "metadata": {
    "ExecuteTime": {
     "end_time": "2022-09-27T04:55:17.303458Z",
     "start_time": "2022-09-27T04:55:17.295494Z"
    }
   },
   "outputs": [],
   "source": [
    "def recursive_function():\n",
    "    print('재귀 함수를 호출합니다.')\n",
    "    recursive_function()\n",
    "\n",
    "# recursive_function() --> 오류 밣생"
   ]
  },
  {
   "cell_type": "code",
   "execution_count": 9,
   "id": "2558dad4",
   "metadata": {
    "ExecuteTime": {
     "end_time": "2022-09-27T04:58:47.906168Z",
     "start_time": "2022-09-27T04:58:47.897869Z"
    }
   },
   "outputs": [
    {
     "name": "stdout",
     "output_type": "stream",
     "text": [
      "1 번쨰 재귀 함수에서  2 번째 재귀 함수를 호출합니다\n",
      "2 번쨰 재귀 함수에서  3 번째 재귀 함수를 호출합니다\n",
      "3 번쨰 재귀 함수에서  4 번째 재귀 함수를 호출합니다\n",
      "4 번쨰 재귀 함수에서  5 번째 재귀 함수를 호출합니다\n",
      "5 번쨰 재귀 함수에서  6 번째 재귀 함수를 호출합니다\n",
      "6 번쨰 재귀 함수에서  7 번째 재귀 함수를 호출합니다\n",
      "7 번쨰 재귀 함수에서  8 번째 재귀 함수를 호출합니다\n",
      "8 번쨰 재귀 함수에서  9 번째 재귀 함수를 호출합니다\n",
      "9 번쨰 재귀 함수에서  10 번째 재귀 함수를 호출합니다\n",
      "9 번째 재귀 함수를 종료합니다.\n",
      "8 번째 재귀 함수를 종료합니다.\n",
      "7 번째 재귀 함수를 종료합니다.\n",
      "6 번째 재귀 함수를 종료합니다.\n",
      "5 번째 재귀 함수를 종료합니다.\n",
      "4 번째 재귀 함수를 종료합니다.\n",
      "3 번째 재귀 함수를 종료합니다.\n",
      "2 번째 재귀 함수를 종료합니다.\n",
      "1 번째 재귀 함수를 종료합니다.\n"
     ]
    }
   ],
   "source": [
    "# 재귀 함수의 종료조건\n",
    "def recursive_function(i):\n",
    "    if i == 10:\n",
    "        return\n",
    "    print(i, '번쨰 재귀 함수에서 ', i+1, '번째 재귀 함수를 호출합니다')\n",
    "    recursive_function(i+1)\n",
    "    print(i, '번째 재귀 함수를 종료합니다.')\n",
    "\n",
    "\n",
    "recursive_function(1)"
   ]
  },
  {
   "cell_type": "markdown",
   "id": "129cc02b",
   "metadata": {},
   "source": [
    "### 팩토리얼"
   ]
  },
  {
   "cell_type": "code",
   "execution_count": 11,
   "id": "9ed5e1f9",
   "metadata": {
    "ExecuteTime": {
     "end_time": "2022-09-27T05:00:39.972288Z",
     "start_time": "2022-09-27T05:00:39.960288Z"
    }
   },
   "outputs": [
    {
     "data": {
      "text/plain": [
       "120"
      ]
     },
     "execution_count": 11,
     "metadata": {},
     "output_type": "execute_result"
    }
   ],
   "source": [
    "# 반복적으로 구현한 n!\n",
    "def factorial_iterative(n) :\n",
    "    result = 1\n",
    "    for i in range(1,n+1) :\n",
    "        result *= i\n",
    "    return result\n",
    "\n",
    "factorial_iterative(5)"
   ]
  },
  {
   "cell_type": "code",
   "execution_count": 12,
   "id": "61dc86a6",
   "metadata": {
    "ExecuteTime": {
     "end_time": "2022-09-27T05:02:40.821000Z",
     "start_time": "2022-09-27T05:02:40.800931Z"
    }
   },
   "outputs": [
    {
     "data": {
      "text/plain": [
       "120"
      ]
     },
     "execution_count": 12,
     "metadata": {},
     "output_type": "execute_result"
    }
   ],
   "source": [
    "# 재귀적으로 구현한 n!\n",
    "def factorial_recursive(n) :\n",
    "    if n <= 1 :\n",
    "        return 1\n",
    "    return n * factorial_recursive(n-1)\n",
    "\n",
    "factorial_recursive(5)"
   ]
  },
  {
   "cell_type": "markdown",
   "id": "6021278b",
   "metadata": {},
   "source": [
    "# 탐색 알고리즘 DFS / BFS"
   ]
  },
  {
   "cell_type": "markdown",
   "id": "1039f23e",
   "metadata": {},
   "source": [
    "## DFS\n",
    "    - 깊이 우선 탐색이라고도 부르며, 그래프에서 깊은 부분을 우선적으로 탐색하는 알고리즘\n",
    "    - 인접 행렬 : 2차원 배열로 그래프의 연결 관계를 표현하는 방식\n",
    "    - 인접 리스트 : 리스트로 그래프의 연결 관계를 표현하는 방식"
   ]
  },
  {
   "cell_type": "code",
   "execution_count": 14,
   "id": "bf8122e6",
   "metadata": {
    "ExecuteTime": {
     "end_time": "2022-09-27T05:50:27.911091Z",
     "start_time": "2022-09-27T05:50:27.898011Z"
    }
   },
   "outputs": [
    {
     "name": "stdout",
     "output_type": "stream",
     "text": [
      "1 2 7 6 8 3 4 5 "
     ]
    }
   ],
   "source": [
    "def dfs(graph, v, visited):\n",
    "    visited[v] = True\n",
    "    print(v, end = ' ')\n",
    "    \n",
    "    for i in graph[v]:\n",
    "        if not visited[i] :\n",
    "            dfs(graph, i, visited)\n",
    "\n",
    "graph = [\n",
    "    [],\n",
    "    [2,3,8],\n",
    "    [1,7],\n",
    "    [1,4,5],\n",
    "    [3,5],\n",
    "    [3,4],\n",
    "    [7],\n",
    "    [2,6,8],\n",
    "    [1,7]\n",
    "]\n",
    "\n",
    "visited = [False] * 9\n",
    "\n",
    "dfs(graph, 1, visited)"
   ]
  },
  {
   "cell_type": "markdown",
   "id": "8cc1434b",
   "metadata": {},
   "source": [
    "## BFS\n",
    "    - '너비 우선 탐색'\n",
    "    - 가까운 노드부터 탐색하는 알고리즘"
   ]
  },
  {
   "cell_type": "code",
   "execution_count": 3,
   "id": "5bc4fe27",
   "metadata": {
    "ExecuteTime": {
     "end_time": "2022-09-29T02:33:45.901324Z",
     "start_time": "2022-09-29T02:33:45.885135Z"
    }
   },
   "outputs": [
    {
     "name": "stdout",
     "output_type": "stream",
     "text": [
      "deque([1])\n",
      "1 2 3 8 7 4 5 6 "
     ]
    }
   ],
   "source": [
    "from collections import deque\n",
    "\n",
    "def bfs(graph, start, visited):\n",
    "    \n",
    "    queue = deque([start])\n",
    "    \n",
    "    visited[start] = True\n",
    "    \n",
    "    while queue :\n",
    "        v = queue.popleft()\n",
    "        print(v, end = \" \")\n",
    "        \n",
    "        for i in graph[v]:\n",
    "            if not visited[i]:\n",
    "                queue.append(i)\n",
    "                visited[i] = True\n",
    "\n",
    "graph = [\n",
    "    [],\n",
    "    [2,3,8],\n",
    "    [1,7],\n",
    "    [1,4,5],\n",
    "    [3,5],\n",
    "    [3,4],\n",
    "    [7],\n",
    "    [2,6,8],\n",
    "    [1,7]\n",
    "]\n",
    "\n",
    "visited = [False] * 9\n",
    "\n",
    "bfs(graph, 1, visited)"
   ]
  },
  {
   "cell_type": "markdown",
   "id": "9a0f3613",
   "metadata": {},
   "source": [
    "# 음료수 얼려 먹기\n",
    "    - n * m 행렬\n",
    "    - 0 : 빈 부분, 1 : 칸막이 존재\n",
    "    - 0 으로 이어져 있는 영억을 하나의 아이스크림 개수\n",
    "    - 총 아이스크림 개수 출력"
   ]
  },
  {
   "cell_type": "code",
   "execution_count": 18,
   "id": "b7cb94dd",
   "metadata": {
    "ExecuteTime": {
     "end_time": "2022-09-29T05:24:42.399333Z",
     "start_time": "2022-09-29T05:24:35.004839Z"
    }
   },
   "outputs": [
    {
     "name": "stdout",
     "output_type": "stream",
     "text": [
      "3 3\n",
      "001\n",
      "010\n",
      "101\n",
      "3\n"
     ]
    }
   ],
   "source": [
    "n, m = map(int, input().split())\n",
    "\n",
    "graph = []\n",
    "for i in range(n) :\n",
    "    graph.append(list(map(int, input())))\n",
    "    \n",
    "def dfs(x,y) :\n",
    "    if x <= -1 or x >=n or y <= -1 or y >= m :\n",
    "        return False\n",
    "    if graph[x][y] == 0 :\n",
    "        graph[x][y] = 1\n",
    "        dfs(x-1,y)\n",
    "        dfs(x,y-1)\n",
    "        dfs(x+1,y)\n",
    "        dfs(x,y+1)\n",
    "        return True\n",
    "    return False\n",
    "\n",
    "result = 0\n",
    "\n",
    "for i in range(n) :\n",
    "    for j in range(m) :\n",
    "        if dfs(i,j) == True :\n",
    "            result += 1\n",
    "\n",
    "print(result)"
   ]
  },
  {
   "cell_type": "markdown",
   "id": "f89ae2d1",
   "metadata": {},
   "source": [
    "# 미로 탈출\n",
    "    - n * m 행렬\n",
    "    - 위치 (1,1)에서 시작\n",
    "    - 출구 (n,m)에 위치\n",
    "    - 0 : 괴물이 있는 위치, 1 : 괴물이 없는 위치\n",
    "    - 탈출 할 수 있는 경로중 최단 거리 구하기\n",
    "    - 칸을 셀 때는 시작위치와 마지막 위치를 셈"
   ]
  },
  {
   "cell_type": "code",
   "execution_count": 22,
   "id": "c9e4e310",
   "metadata": {
    "ExecuteTime": {
     "end_time": "2022-09-29T06:37:28.845487Z",
     "start_time": "2022-09-29T06:37:18.263079Z"
    }
   },
   "outputs": [
    {
     "name": "stdout",
     "output_type": "stream",
     "text": [
      "3 3\n",
      "110\n",
      "010\n",
      "011\n",
      "[[1, 2, 0], [0, 1, 0], [0, 1, 1]]\n",
      "[[1, 2, 0], [0, 3, 0], [0, 1, 1]]\n",
      "[[3, 2, 0], [0, 3, 0], [0, 1, 1]]\n",
      "[[3, 2, 0], [0, 3, 0], [0, 4, 1]]\n",
      "[[3, 2, 0], [0, 3, 0], [0, 4, 5]]\n",
      "5\n"
     ]
    }
   ],
   "source": [
    "from collections import deque\n",
    "\n",
    "n, m = map(int, input().split())\n",
    "\n",
    "graph = []\n",
    "for i in range(n) :\n",
    "    graph.append(list(map(int, input())))\n",
    "\n",
    "# 상, 하, 좌, 우\n",
    "dx = [-1,1,0,0]\n",
    "dy = [0,0,-1,1]\n",
    "\n",
    "def bfs(x, y):\n",
    "    queue = deque()\n",
    "    queue.append((x,y))\n",
    "    \n",
    "    while queue :\n",
    "        x, y = queue.popleft()\n",
    "        \n",
    "        for i in range(4) :\n",
    "            nx = x + dx[i]\n",
    "            ny = y + dy[i]\n",
    "            \n",
    "            if nx < 0 or ny < 0 or nx >= n or ny >= m :\n",
    "                continue\n",
    "            \n",
    "            if graph[nx][ny] == 0 :\n",
    "                continue\n",
    "        \n",
    "            if graph[nx][ny] == 1 :\n",
    "                graph[nx][ny] = graph[x][y] + 1\n",
    "                print(graph)\n",
    "                queue.append((nx,ny))\n",
    "    \n",
    "    return graph[n-1][m-1]\n",
    "\n",
    "print(bfs(0,0))"
   ]
  }
 ],
 "metadata": {
  "hide_input": false,
  "kernelspec": {
   "display_name": "Python 3 (ipykernel)",
   "language": "python",
   "name": "python3"
  },
  "language_info": {
   "codemirror_mode": {
    "name": "ipython",
    "version": 3
   },
   "file_extension": ".py",
   "mimetype": "text/x-python",
   "name": "python",
   "nbconvert_exporter": "python",
   "pygments_lexer": "ipython3",
   "version": "3.9.13"
  },
  "toc": {
   "base_numbering": 1,
   "nav_menu": {},
   "number_sections": true,
   "sideBar": true,
   "skip_h1_title": false,
   "title_cell": "Table of Contents",
   "title_sidebar": "Contents",
   "toc_cell": false,
   "toc_position": {},
   "toc_section_display": true,
   "toc_window_display": true
  }
 },
 "nbformat": 4,
 "nbformat_minor": 5
}
