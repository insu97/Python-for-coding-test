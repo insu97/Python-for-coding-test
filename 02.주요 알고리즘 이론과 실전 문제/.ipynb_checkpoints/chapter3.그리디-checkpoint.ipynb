{
 "cells": [
  {
   "cell_type": "markdown",
   "id": "0dc523c5",
   "metadata": {},
   "source": [
    "# 그리디\n",
    "    : 현재 상황에서 지금 당장 좋은 것만 고르는 방법"
   ]
  },
  {
   "cell_type": "markdown",
   "id": "50701198",
   "metadata": {},
   "source": [
    "## 당장 좋은 것만 선택하는 그리디"
   ]
  },
  {
   "cell_type": "code",
   "execution_count": 1,
   "id": "2226944a",
   "metadata": {
    "ExecuteTime": {
     "end_time": "2022-09-21T07:00:36.180690Z",
     "start_time": "2022-09-21T07:00:30.214551Z"
    }
   },
   "outputs": [
    {
     "name": "stdout",
     "output_type": "stream",
     "text": [
      "12560\n",
      "27\n"
     ]
    }
   ],
   "source": [
    "# ex) 거스름돈\n",
    "# 500, 100, 50, 10 원 개수 세기\n",
    "\n",
    "n = int(input())\n",
    "count = 0\n",
    "\n",
    "# 그리디 알고리즘의 정당성\n",
    "# 가장 큰 화폐부터 사용\n",
    "coin_types = [500,100,50,10]\n",
    "\n",
    "for coin in coin_types :\n",
    "    count += n // coin\n",
    "    n %= coin\n",
    "\n",
    "print(count)"
   ]
  },
  {
   "cell_type": "markdown",
   "id": "12fe002e",
   "metadata": {},
   "source": [
    "## 큰 수의 법칙"
   ]
  },
  {
   "cell_type": "markdown",
   "id": "d765f515",
   "metadata": {},
   "source": [
    "### V1"
   ]
  },
  {
   "cell_type": "markdown",
   "id": "e20bf28f",
   "metadata": {},
   "source": [
    "#### 내 풀이"
   ]
  },
  {
   "cell_type": "code",
   "execution_count": 19,
   "id": "b723b6a8",
   "metadata": {
    "ExecuteTime": {
     "end_time": "2022-09-21T07:19:32.841509Z",
     "start_time": "2022-09-21T07:19:25.599505Z"
    }
   },
   "outputs": [
    {
     "name": "stdout",
     "output_type": "stream",
     "text": [
      "5 8 3\n",
      "2 4 5 4 6\n"
     ]
    }
   ],
   "source": [
    "n, m, k = map(int , input().split())\n",
    "data = list(map(int,input().split()))"
   ]
  },
  {
   "cell_type": "code",
   "execution_count": 20,
   "id": "ab1e9d84",
   "metadata": {
    "ExecuteTime": {
     "end_time": "2022-09-21T07:19:34.311985Z",
     "start_time": "2022-09-21T07:19:34.296843Z"
    }
   },
   "outputs": [
    {
     "data": {
      "text/plain": [
       "[2, 4, 4, 5, 6]"
      ]
     },
     "execution_count": 20,
     "metadata": {},
     "output_type": "execute_result"
    }
   ],
   "source": [
    "data.sort()\n",
    "data"
   ]
  },
  {
   "cell_type": "code",
   "execution_count": 28,
   "id": "cb5089f5",
   "metadata": {
    "ExecuteTime": {
     "end_time": "2022-09-21T07:22:38.772418Z",
     "start_time": "2022-09-21T07:22:38.747876Z"
    }
   },
   "outputs": [
    {
     "name": "stdout",
     "output_type": "stream",
     "text": [
      "46\n"
     ]
    }
   ],
   "source": [
    "''' 개인 '''\n",
    "\n",
    "result = 0\n",
    "\n",
    "x = 1\n",
    "y = 1\n",
    "\n",
    "for i in range(m):\n",
    "    if x <= k :\n",
    "        result += data[n-y]\n",
    "        x += 1\n",
    "    else :\n",
    "        y += 1\n",
    "        result += data[n-y]\n",
    "        x = 1\n",
    "        y = 1\n",
    "        \n",
    "print(result)"
   ]
  },
  {
   "cell_type": "markdown",
   "id": "9c83b0c6",
   "metadata": {},
   "source": [
    "#### 책 풀이"
   ]
  },
  {
   "cell_type": "code",
   "execution_count": 2,
   "id": "28866c41",
   "metadata": {
    "ExecuteTime": {
     "end_time": "2022-09-22T00:53:47.024072Z",
     "start_time": "2022-09-22T00:53:38.043379Z"
    }
   },
   "outputs": [
    {
     "name": "stdout",
     "output_type": "stream",
     "text": [
      "5 8 3\n",
      "2 4 5 4 6\n",
      "46\n"
     ]
    }
   ],
   "source": [
    "# 어차피 사용되는 숫자는 가장 큰 수와 두 번째로 큰수이기 때문에 변수로 지정한 후 계산\n",
    "\n",
    "n, m, k = map(int , input().split())\n",
    "data = list(map(int,input().split()))\n",
    "\n",
    "data.sort()\n",
    "first = data[n-1]\n",
    "second = data[n-2]\n",
    "\n",
    "result = 0\n",
    "\n",
    "while True :\n",
    "    for _ in range(k) : # 가장 큰 수를 k번 더하기\n",
    "        if m == 0 :\n",
    "            break\n",
    "        result += first\n",
    "        m -= 1\n",
    "        \n",
    "    if m == 0 :\n",
    "        break\n",
    "    \n",
    "    result += second\n",
    "    m -= 1\n",
    "\n",
    "print(result)"
   ]
  },
  {
   "cell_type": "markdown",
   "id": "fc86d447",
   "metadata": {},
   "source": [
    "### V2"
   ]
  },
  {
   "cell_type": "code",
   "execution_count": 3,
   "id": "76eab424",
   "metadata": {
    "ExecuteTime": {
     "end_time": "2022-09-22T00:56:42.433693Z",
     "start_time": "2022-09-22T00:56:32.145219Z"
    }
   },
   "outputs": [
    {
     "name": "stdout",
     "output_type": "stream",
     "text": [
      "5 8 3\n",
      "2 4 5 4 6\n",
      "46\n"
     ]
    }
   ],
   "source": [
    "''' 계산 '''\n",
    "# 반복되는 수열에 대해서 생각\n",
    "# 위 수열은 6 6 6 5 가 반복\n",
    "\n",
    "# 가장 큰 수 개수 구하기\n",
    "## int(m/(k+1)) : 반복되는 수열의 개수\n",
    "## int(m/(k+1)) * k : m 이 k+1개로 딱 떨어질 때 가장 큰 수의 개수\n",
    "## m % (K+1) : m 이 k+1개로 딱 떨어지지 않을 때 추가로 나오는 가장 큰 수의 개수\n",
    "### 따라서 가장 큰 수의 개수 = int(m / (k+1)) * k + m % (k+1)\n",
    "\n",
    "# 두 번째 큰 수 개수 : m - 가장 큰 수 개수 \n",
    "\n",
    "n, m, k = map(int , input().split())\n",
    "data = list(map(int,input().split()))\n",
    "\n",
    "data.sort()\n",
    "first = data[n-1]\n",
    "second = data[n-2]\n",
    "\n",
    "result = 0\n",
    "\n",
    "# 가장 큰 수의 개수 구하기\n",
    "count = int(m/(k+1)) * k\n",
    "count += m % (k+1)\n",
    "\n",
    "result += count * first\n",
    "result += (m-count) * second\n",
    "\n",
    "print(result)"
   ]
  }
 ],
 "metadata": {
  "hide_input": false,
  "kernelspec": {
   "display_name": "Python 3 (ipykernel)",
   "language": "python",
   "name": "python3"
  },
  "language_info": {
   "codemirror_mode": {
    "name": "ipython",
    "version": 3
   },
   "file_extension": ".py",
   "mimetype": "text/x-python",
   "name": "python",
   "nbconvert_exporter": "python",
   "pygments_lexer": "ipython3",
   "version": "3.9.13"
  },
  "toc": {
   "base_numbering": 1,
   "nav_menu": {},
   "number_sections": true,
   "sideBar": true,
   "skip_h1_title": false,
   "title_cell": "Table of Contents",
   "title_sidebar": "Contents",
   "toc_cell": false,
   "toc_position": {},
   "toc_section_display": true,
   "toc_window_display": true
  }
 },
 "nbformat": 4,
 "nbformat_minor": 5
}
