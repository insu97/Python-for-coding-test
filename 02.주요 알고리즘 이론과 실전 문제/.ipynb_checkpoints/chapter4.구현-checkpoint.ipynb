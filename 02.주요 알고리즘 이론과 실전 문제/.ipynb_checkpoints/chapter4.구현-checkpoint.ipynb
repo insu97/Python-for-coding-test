{
 "cells": [
  {
   "cell_type": "markdown",
   "id": "38bf5caa",
   "metadata": {},
   "source": [
    "# 아이디어를 코드로 바꾸는 구현\n",
    "\n",
    "* 완전탐색 : 모든 경우의 수를 주저 없이 다 계산하는 해결 방법\n",
    "* 시뮬레이션 : 문제에서 제시한 알고리즘을 한 단계씩 차례대로 직접 수행"
   ]
  },
  {
   "cell_type": "markdown",
   "id": "1b3e7214",
   "metadata": {},
   "source": [
    "## 상하좌우\n",
    "    - N * N 행렬을 입력받아 (1,1)에서 출발하여 L,R,U,D 명령어를 받아서 최종 위치 출력\n",
    "    - 행렬의 범위를 나가면 그 명령은 무시"
   ]
  },
  {
   "cell_type": "code",
   "execution_count": 5,
   "id": "6bcbdfe4",
   "metadata": {
    "ExecuteTime": {
     "end_time": "2022-09-23T04:11:03.911706Z",
     "start_time": "2022-09-23T04:11:02.268404Z"
    }
   },
   "outputs": [
    {
     "name": "stdout",
     "output_type": "stream",
     "text": [
      "5\n",
      "R R R U D D\n",
      "3 4\n"
     ]
    }
   ],
   "source": [
    "# 내 풀이\n",
    "\n",
    "n = int(input())\n",
    "x, y = 1,1\n",
    "plans = input().split()\n",
    "\n",
    "for i in plans :\n",
    "    \n",
    "    if i == 'L' and y-1 >= 1 :\n",
    "        y -= 1\n",
    "    elif i == 'R' and y+1 <= n :\n",
    "        y += 1\n",
    "    elif i == 'U' and x-1 >= 1 :\n",
    "        x -= 1\n",
    "    elif i == 'D' and x+1 <=n :\n",
    "        x += 1\n",
    "\n",
    "print(x,y)    "
   ]
  },
  {
   "cell_type": "code",
   "execution_count": 6,
   "id": "e7686c0d",
   "metadata": {
    "ExecuteTime": {
     "end_time": "2022-09-23T04:21:00.622508Z",
     "start_time": "2022-09-23T04:20:50.033532Z"
    }
   },
   "outputs": [
    {
     "name": "stdout",
     "output_type": "stream",
     "text": [
      "5\n",
      "R R R U D D\n",
      "3 3\n"
     ]
    }
   ],
   "source": [
    "# 책\n",
    "\n",
    "n = int(input())\n",
    "x, y = 1,1\n",
    "plans = input().split()\n",
    "\n",
    "dx = [0,0,-1,1]\n",
    "dy = [-1,1,0,0]\n",
    "move_types = ['L','R','U','D']\n",
    "\n",
    "for plan in plans :\n",
    "    \n",
    "    for i in range(len(move_types)) :\n",
    "        if plan == move_types[i] :\n",
    "            nx = x + dx[i]\n",
    "            ny = y + dx[i]\n",
    "    \n",
    "    # 공간을 벗어나는 경우 무시\n",
    "    if nx < 1 or ny < 1 or nx > n or ny > n :\n",
    "        continue\n",
    "        \n",
    "    x, y = nx, ny\n",
    "\n",
    "print(x, y)"
   ]
  },
  {
   "cell_type": "markdown",
   "id": "ef50429b",
   "metadata": {},
   "source": [
    "## 시각\n",
    "    - N 값을 받아 0시 0분 0초 부터 N시 59분 59초 까지 3이 들어간 경우의 수 출력"
   ]
  },
  {
   "cell_type": "code",
   "execution_count": 9,
   "id": "f1c3c076",
   "metadata": {
    "ExecuteTime": {
     "end_time": "2022-09-23T04:27:12.587101Z",
     "start_time": "2022-09-23T04:27:11.768496Z"
    }
   },
   "outputs": [
    {
     "name": "stdout",
     "output_type": "stream",
     "text": [
      "5\n",
      "11475\n"
     ]
    }
   ],
   "source": [
    "n = int(input())\n",
    "\n",
    "count = 0\n",
    "\n",
    "for i in range(n+1):\n",
    "    for j in range(60) :\n",
    "        for k in range(60) :\n",
    "            if '3' in str(i) + str(j) + str(k) :\n",
    "                count += 1\n",
    "                \n",
    "print(count)"
   ]
  },
  {
   "cell_type": "markdown",
   "id": "a742af87",
   "metadata": {},
   "source": [
    "# 왕실의 나이트\n",
    "    - 8 x 8 행렬\n",
    "    - 체스의 나이트이기 때문에 L자로 움직임\n",
    "    - 1. 수평으로 두 칸 이동한 뒤에 수직으로 한 칸 이동하기\n",
    "    - 2. 수직으로 두 칸 이동한 뒤에 수평으로 한 칸 이동하기\n",
    "    - 위치값을 받아 움직일 수 있는 경우의 수를 구하기"
   ]
  },
  {
   "cell_type": "code",
   "execution_count": 31,
   "id": "a798aca5",
   "metadata": {
    "ExecuteTime": {
     "end_time": "2022-09-23T05:08:07.671918Z",
     "start_time": "2022-09-23T05:08:06.848800Z"
    }
   },
   "outputs": [
    {
     "name": "stdout",
     "output_type": "stream",
     "text": [
      "a1\n",
      "2\n"
     ]
    }
   ],
   "source": [
    "# ord(문자) : 문자를 유니코드 정수로 변환\n",
    "# chr(정수) : 정수를 유니코드 문자로 변환\n",
    "\n",
    "a = input()\n",
    "\n",
    "x = int(ord(a[0])) - int(ord('a')) + 1\n",
    "y = int(a[1])\n",
    "\n",
    "count = 0\n",
    "move_plans = [(-2,1), (-2,-1), (2,1), (2,-1), (1,2), (-1,2), (1,-2), (-1,-2)]\n",
    "\n",
    "for i in range(len(move_plans)) :\n",
    "    \n",
    "    dx = x + move_plans[i][0]\n",
    "    dy = y + move_plans[i][1]\n",
    "    \n",
    "    if dx < 1 or dx > 8 or dy < 1 or dy > 8 :\n",
    "        continue\n",
    "    \n",
    "    count += 1\n",
    "    \n",
    "print(count)"
   ]
  },
  {
   "cell_type": "markdown",
   "id": "a3c2467a",
   "metadata": {},
   "source": [
    "# 게임 개발\n",
    "    - n * m 맵 생성\n",
    "    - 0 : 북쪽, 1 : 동쪽, 2 : 남쪽, 3 : 서쪽\n",
    "    - 캐릭터 위치와 방향 설정 ( ex. 1,1,0 : (1,1)에 위치 북쪽을 바라보는 캐릭터\n",
    "    - 맵 생성 : 1은 바다 , 0은 육지"
   ]
  },
  {
   "cell_type": "code",
   "execution_count": 61,
   "id": "15bcc88c",
   "metadata": {
    "ExecuteTime": {
     "end_time": "2022-09-23T06:04:59.212636Z",
     "start_time": "2022-09-23T06:04:59.192621Z"
    }
   },
   "outputs": [],
   "source": [
    "# 내장함수를 변수로 사용하였을 때 초기화 하는 방법\n",
    "map = __builtins__.map"
   ]
  },
  {
   "cell_type": "code",
   "execution_count": 67,
   "id": "1ddd3bb6",
   "metadata": {
    "ExecuteTime": {
     "end_time": "2022-09-23T06:10:40.758994Z",
     "start_time": "2022-09-23T06:08:48.916621Z"
    }
   },
   "outputs": [
    {
     "name": "stdout",
     "output_type": "stream",
     "text": [
      "4 4\n",
      "1 1 0\n",
      "1 1 1 1\n",
      "1 0 0 1\n",
      "1 1 0 1\n",
      "1 1 1 1\n",
      "3\n"
     ]
    }
   ],
   "source": [
    "n, m = map(int, input().split())\n",
    "\n",
    "# 방문 확인용\n",
    "d = [[0] * m for _ in range(n)]\n",
    "\n",
    "x, y, direction = map(int, input().split())\n",
    "\n",
    "# 출발한 곳은 자동 방문처리\n",
    "d[x][y] = 1\n",
    "\n",
    "# 지도 생성\n",
    "array = []\n",
    "for i in range(n) :\n",
    "    array.append(list(map(int, input().split())))\n",
    "\n",
    "# 북, 동, 남, 서\n",
    "dx = [-1,0,1,0]\n",
    "dy = [0,1,0,-1]\n",
    "\n",
    "def turn_left() :\n",
    "    global direction\n",
    "    direction -= 1\n",
    "    if direction == -1 :\n",
    "        direction = 3\n",
    "\n",
    "count = 1\n",
    "turn_time = 0\n",
    "\n",
    "while True :\n",
    "    \n",
    "    turn_left()\n",
    "    \n",
    "    nx = x + dx[direction]\n",
    "    ny = y + dy[direction]\n",
    "    \n",
    "    if d[nx][ny] == 0 and array[nx][ny] == 0 :\n",
    "        d[nx][ny] = 1\n",
    "        x = nx\n",
    "        y = ny\n",
    "        count +=1\n",
    "        turn_time = 0\n",
    "        continue\n",
    "    else :\n",
    "        turn_time += 1\n",
    "    \n",
    "    if turn_time == 4 :\n",
    "        nx = x - dx[direction]\n",
    "        ny = y - dy[direction]\n",
    "        \n",
    "        if array[nx][ny] == 0 :\n",
    "            x = nx\n",
    "            y = ny\n",
    "        else :\n",
    "            break\n",
    "        turn_time = 0\n",
    "\n",
    "print(count)"
   ]
  }
 ],
 "metadata": {
  "hide_input": false,
  "kernelspec": {
   "display_name": "Python 3 (ipykernel)",
   "language": "python",
   "name": "python3"
  },
  "language_info": {
   "codemirror_mode": {
    "name": "ipython",
    "version": 3
   },
   "file_extension": ".py",
   "mimetype": "text/x-python",
   "name": "python",
   "nbconvert_exporter": "python",
   "pygments_lexer": "ipython3",
   "version": "3.9.13"
  },
  "toc": {
   "base_numbering": 1,
   "nav_menu": {},
   "number_sections": true,
   "sideBar": true,
   "skip_h1_title": false,
   "title_cell": "Table of Contents",
   "title_sidebar": "Contents",
   "toc_cell": false,
   "toc_position": {},
   "toc_section_display": true,
   "toc_window_display": true
  }
 },
 "nbformat": 4,
 "nbformat_minor": 5
}
