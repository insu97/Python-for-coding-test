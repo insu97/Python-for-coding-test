{
 "cells": [
  {
   "cell_type": "markdown",
   "id": "8fd519d2",
   "metadata": {},
   "source": [
    "# 꼭 필요한 자료구조 기초\n",
    "    - 탐색(search) : 많은 양의 데이터 중에서 원하는 데이터를 찾는 과정\n",
    "    - 자료 구조(Data Structure) : 데이터를 표현하고 관리하고 처리하기 위한 구조\n",
    "    - 삽입(push) / 삭제(pop)"
   ]
  },
  {
   "cell_type": "markdown",
   "id": "2e500806",
   "metadata": {},
   "source": [
    "## 스택\n",
    "    - 선입후출 구조"
   ]
  },
  {
   "cell_type": "code",
   "execution_count": 1,
   "id": "796bc31e",
   "metadata": {
    "ExecuteTime": {
     "end_time": "2022-09-27T04:55:02.879940Z",
     "start_time": "2022-09-27T04:55:02.854802Z"
    }
   },
   "outputs": [
    {
     "name": "stdout",
     "output_type": "stream",
     "text": [
      "[5, 2, 3]\n",
      "[3, 2, 5]\n"
     ]
    }
   ],
   "source": [
    "stack = []\n",
    "\n",
    "stack.append(5)\n",
    "stack.append(2)\n",
    "stack.append(7)\n",
    "stack.pop()\n",
    "stack.append(3)\n",
    "\n",
    "print(stack) # 최하단 원소부터 출력\n",
    "print(stack[::-1]) # 최상단 원소부터 출력"
   ]
  },
  {
   "cell_type": "markdown",
   "id": "171ee243",
   "metadata": {},
   "source": [
    "## 큐\n",
    "    - 선입선출 구조"
   ]
  },
  {
   "cell_type": "code",
   "execution_count": 2,
   "id": "43b89314",
   "metadata": {
    "ExecuteTime": {
     "end_time": "2022-09-27T04:55:03.659344Z",
     "start_time": "2022-09-27T04:55:03.650343Z"
    }
   },
   "outputs": [
    {
     "name": "stdout",
     "output_type": "stream",
     "text": [
      "deque([2, 3, 7])\n",
      "deque([7, 3, 2])\n"
     ]
    }
   ],
   "source": [
    "from collections import deque\n",
    "\n",
    "queue = deque()\n",
    "\n",
    "queue.append(5)\n",
    "queue.append(2)\n",
    "queue.append(3)\n",
    "queue.popleft()\n",
    "queue.append(7)\n",
    "\n",
    "print(queue) # 먼저 들어온 순서대로 출력\n",
    "queue.reverse() # 역순으로 바꾸기\n",
    "print(queue) # 나중에 들어온 순서대로 출력"
   ]
  },
  {
   "cell_type": "markdown",
   "id": "f74c6111",
   "metadata": {},
   "source": [
    "## 재귀함수\n",
    "    - 자기 자신을 다시 호출하는 함수"
   ]
  },
  {
   "cell_type": "code",
   "execution_count": 3,
   "id": "012d045c",
   "metadata": {
    "ExecuteTime": {
     "end_time": "2022-09-27T04:55:17.303458Z",
     "start_time": "2022-09-27T04:55:17.295494Z"
    }
   },
   "outputs": [],
   "source": [
    "def recursive_function():\n",
    "    print('재귀 함수를 호출합니다.')\n",
    "    recursive_function()\n",
    "\n",
    "# recursive_function() --> 오류 밣생"
   ]
  },
  {
   "cell_type": "code",
   "execution_count": 9,
   "id": "2558dad4",
   "metadata": {
    "ExecuteTime": {
     "end_time": "2022-09-27T04:58:47.906168Z",
     "start_time": "2022-09-27T04:58:47.897869Z"
    }
   },
   "outputs": [
    {
     "name": "stdout",
     "output_type": "stream",
     "text": [
      "1 번쨰 재귀 함수에서  2 번째 재귀 함수를 호출합니다\n",
      "2 번쨰 재귀 함수에서  3 번째 재귀 함수를 호출합니다\n",
      "3 번쨰 재귀 함수에서  4 번째 재귀 함수를 호출합니다\n",
      "4 번쨰 재귀 함수에서  5 번째 재귀 함수를 호출합니다\n",
      "5 번쨰 재귀 함수에서  6 번째 재귀 함수를 호출합니다\n",
      "6 번쨰 재귀 함수에서  7 번째 재귀 함수를 호출합니다\n",
      "7 번쨰 재귀 함수에서  8 번째 재귀 함수를 호출합니다\n",
      "8 번쨰 재귀 함수에서  9 번째 재귀 함수를 호출합니다\n",
      "9 번쨰 재귀 함수에서  10 번째 재귀 함수를 호출합니다\n",
      "9 번째 재귀 함수를 종료합니다.\n",
      "8 번째 재귀 함수를 종료합니다.\n",
      "7 번째 재귀 함수를 종료합니다.\n",
      "6 번째 재귀 함수를 종료합니다.\n",
      "5 번째 재귀 함수를 종료합니다.\n",
      "4 번째 재귀 함수를 종료합니다.\n",
      "3 번째 재귀 함수를 종료합니다.\n",
      "2 번째 재귀 함수를 종료합니다.\n",
      "1 번째 재귀 함수를 종료합니다.\n"
     ]
    }
   ],
   "source": [
    "# 재귀 함수의 종료조건\n",
    "def recursive_function(i):\n",
    "    if i == 10:\n",
    "        return\n",
    "    print(i, '번쨰 재귀 함수에서 ', i+1, '번째 재귀 함수를 호출합니다')\n",
    "    recursive_function(i+1)\n",
    "    print(i, '번째 재귀 함수를 종료합니다.')\n",
    "\n",
    "\n",
    "recursive_function(1)"
   ]
  },
  {
   "cell_type": "markdown",
   "id": "129cc02b",
   "metadata": {},
   "source": [
    "### 팩토리얼"
   ]
  },
  {
   "cell_type": "code",
   "execution_count": 11,
   "id": "9ed5e1f9",
   "metadata": {
    "ExecuteTime": {
     "end_time": "2022-09-27T05:00:39.972288Z",
     "start_time": "2022-09-27T05:00:39.960288Z"
    }
   },
   "outputs": [
    {
     "data": {
      "text/plain": [
       "120"
      ]
     },
     "execution_count": 11,
     "metadata": {},
     "output_type": "execute_result"
    }
   ],
   "source": [
    "# 반복적으로 구현한 n!\n",
    "def factorial_iterative(n) :\n",
    "    result = 1\n",
    "    for i in range(1,n+1) :\n",
    "        result *= i\n",
    "    return result\n",
    "\n",
    "factorial_iterative(5)"
   ]
  },
  {
   "cell_type": "code",
   "execution_count": 12,
   "id": "61dc86a6",
   "metadata": {
    "ExecuteTime": {
     "end_time": "2022-09-27T05:02:40.821000Z",
     "start_time": "2022-09-27T05:02:40.800931Z"
    }
   },
   "outputs": [
    {
     "data": {
      "text/plain": [
       "120"
      ]
     },
     "execution_count": 12,
     "metadata": {},
     "output_type": "execute_result"
    }
   ],
   "source": [
    "# 재귀적으로 구현한 n!\n",
    "def factorial_recursive(n) :\n",
    "    if n <= 1 :\n",
    "        return 1\n",
    "    return n * factorial_recursive(n-1)\n",
    "\n",
    "factorial_recursive(5)"
   ]
  },
  {
   "cell_type": "markdown",
   "id": "6021278b",
   "metadata": {},
   "source": [
    "# 탐색 알고리즘 DFS / BFS"
   ]
  },
  {
   "cell_type": "markdown",
   "id": "1039f23e",
   "metadata": {},
   "source": [
    "## DFS\n",
    "    - 깊이 우선 탐색이라고도 부르며, 그래프에서 깊은 부분을 우선적으로 탐색하는 알고리즘\n",
    "    - 인접 행렬 : 2차원 배열로 그래프의 연결 관계를 표현하는 방식\n",
    "    - 인접 리스트 : 리스트로 그래프의 연결 관계를 표현하는 방식"
   ]
  },
  {
   "cell_type": "code",
   "execution_count": 14,
   "id": "bf8122e6",
   "metadata": {
    "ExecuteTime": {
     "end_time": "2022-09-27T05:50:27.911091Z",
     "start_time": "2022-09-27T05:50:27.898011Z"
    }
   },
   "outputs": [
    {
     "name": "stdout",
     "output_type": "stream",
     "text": [
      "1 2 7 6 8 3 4 5 "
     ]
    }
   ],
   "source": [
    "def dfs(graph, v, visited):\n",
    "    visited[v] = True\n",
    "    print(v, end = ' ')\n",
    "    \n",
    "    for i in graph[v]:\n",
    "        if not visited[i] :\n",
    "            dfs(graph, i, visited)\n",
    "\n",
    "graph = [\n",
    "    [],\n",
    "    [2,3,8],\n",
    "    [1,7],\n",
    "    [1,4,5],\n",
    "    [3,5],\n",
    "    [3,4],\n",
    "    [7],\n",
    "    [2,6,8],\n",
    "    [1,7]\n",
    "]\n",
    "\n",
    "visited = [False] * 9\n",
    "\n",
    "dfs(graph, 1, visited)"
   ]
  }
 ],
 "metadata": {
  "hide_input": false,
  "kernelspec": {
   "display_name": "Python 3 (ipykernel)",
   "language": "python",
   "name": "python3"
  },
  "language_info": {
   "codemirror_mode": {
    "name": "ipython",
    "version": 3
   },
   "file_extension": ".py",
   "mimetype": "text/x-python",
   "name": "python",
   "nbconvert_exporter": "python",
   "pygments_lexer": "ipython3",
   "version": "3.9.13"
  },
  "toc": {
   "base_numbering": 1,
   "nav_menu": {},
   "number_sections": true,
   "sideBar": true,
   "skip_h1_title": false,
   "title_cell": "Table of Contents",
   "title_sidebar": "Contents",
   "toc_cell": false,
   "toc_position": {},
   "toc_section_display": true,
   "toc_window_display": true
  }
 },
 "nbformat": 4,
 "nbformat_minor": 5
}
