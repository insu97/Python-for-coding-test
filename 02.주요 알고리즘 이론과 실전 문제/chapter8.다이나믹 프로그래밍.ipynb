{
 "cells": [
  {
   "cell_type": "markdown",
   "id": "5cac0527",
   "metadata": {},
   "source": [
    "# 다이나믹 프로그래밍\n",
    "    - 점화식을 먼저 생각하면 쉬움"
   ]
  },
  {
   "cell_type": "code",
   "execution_count": 1,
   "id": "27d82496",
   "metadata": {
    "ExecuteTime": {
     "end_time": "2022-10-17T02:15:35.704969Z",
     "start_time": "2022-10-17T02:15:35.689555Z"
    }
   },
   "outputs": [
    {
     "name": "stdout",
     "output_type": "stream",
     "text": [
      "3\n"
     ]
    }
   ],
   "source": [
    "def fibo(x):\n",
    "    if x==1 or x==2:\n",
    "        return 1\n",
    "    return fibo(x-1)+fibo(x-2)\n",
    "\n",
    "print(fibo(4))"
   ]
  },
  {
   "cell_type": "markdown",
   "id": "9b7df257",
   "metadata": {},
   "source": [
    "## 재귀적"
   ]
  },
  {
   "cell_type": "code",
   "execution_count": 3,
   "id": "89887c43",
   "metadata": {
    "ExecuteTime": {
     "end_time": "2022-10-17T02:17:29.393893Z",
     "start_time": "2022-10-17T02:17:29.382604Z"
    }
   },
   "outputs": [
    {
     "name": "stdout",
     "output_type": "stream",
     "text": [
      "3\n"
     ]
    }
   ],
   "source": [
    "d = [0] * 100\n",
    "\n",
    "def fibo(x):\n",
    "    if x==1 or x==2:\n",
    "        return 1\n",
    "    if d[x] != 0 :\n",
    "        return d[x]\n",
    "    d[x] = fibo(x-1) + fibo(x-2)\n",
    "    return d[x]\n",
    "\n",
    "print(fibo(4))"
   ]
  },
  {
   "cell_type": "markdown",
   "id": "f81cc4f4",
   "metadata": {},
   "source": [
    "## 반복적"
   ]
  },
  {
   "cell_type": "code",
   "execution_count": 4,
   "id": "b2ae2043",
   "metadata": {
    "ExecuteTime": {
     "end_time": "2022-10-17T02:19:26.986265Z",
     "start_time": "2022-10-17T02:19:26.964553Z"
    }
   },
   "outputs": [
    {
     "name": "stdout",
     "output_type": "stream",
     "text": [
      "3\n"
     ]
    }
   ],
   "source": [
    "d = [0] * 100\n",
    "\n",
    "d[1] = 1\n",
    "d[2] = 1\n",
    "n = 99\n",
    "\n",
    "for i in range(3, n+1):\n",
    "    d[i] = d[i-1] + d[i-2]\n",
    "    \n",
    "print(d[4])"
   ]
  },
  {
   "cell_type": "markdown",
   "id": "462c82b0",
   "metadata": {},
   "source": [
    "# 1로 만들기\n",
    "    - X 가 5,3,2 로 나눠지면 5,3,2로 나눈다.\n",
    "    - X에서 1을 뺀다."
   ]
  },
  {
   "cell_type": "code",
   "execution_count": 10,
   "id": "92c7d99a",
   "metadata": {
    "ExecuteTime": {
     "end_time": "2022-10-17T04:14:45.656667Z",
     "start_time": "2022-10-17T04:14:44.506325Z"
    }
   },
   "outputs": [
    {
     "name": "stdout",
     "output_type": "stream",
     "text": [
      "26\n",
      "3\n"
     ]
    }
   ],
   "source": [
    "x = int(input())\n",
    "\n",
    "d = [0] * 30001\n",
    "\n",
    "for i in range(2,x+1):\n",
    "    \n",
    "    d[i] = d[i-1] + 1\n",
    "\n",
    "    if i % 2 == 0 :\n",
    "        d[i] = min(d[i], d[i//2]+1)\n",
    "    if i % 3 == 0 :\n",
    "        d[i] = min(d[i], d[i//3]+1)\n",
    "    if i % 5 == 0 :\n",
    "        d[i] = min(d[i], d[i//5]+1)\n",
    "\n",
    "print(d[x])    "
   ]
  },
  {
   "cell_type": "markdown",
   "id": "8d67baaf",
   "metadata": {},
   "source": [
    "# 개미 전사"
   ]
  },
  {
   "cell_type": "code",
   "execution_count": 13,
   "id": "1cbca4e0",
   "metadata": {
    "ExecuteTime": {
     "end_time": "2022-10-17T04:28:35.947536Z",
     "start_time": "2022-10-17T04:28:33.596171Z"
    }
   },
   "outputs": [
    {
     "name": "stdout",
     "output_type": "stream",
     "text": [
      "4\n",
      "1 3 1 5\n",
      "8\n"
     ]
    }
   ],
   "source": [
    "n = int(input())\n",
    "\n",
    "array = list(map(int, input().split()))\n",
    "\n",
    "d = [0] * 100\n",
    "\n",
    "d[0] = array[0]\n",
    "d[1] = max(array[0], array[1])\n",
    "\n",
    "for i in range(2, n):\n",
    "    d[i] = max(d[i-1], d[i-2]+array[i])\n",
    "\n",
    "print(d[n-1])"
   ]
  },
  {
   "cell_type": "markdown",
   "id": "479b6962",
   "metadata": {},
   "source": [
    "# 바닥 공사\n",
    "    - 1 * 2 , 2 * 1, 2 * 2 타일로 바닥을 채움\n",
    "    - 바닥 : 2 * n\n",
    "    - 채우는 경우의 수"
   ]
  },
  {
   "cell_type": "code",
   "execution_count": 14,
   "id": "169ba8b1",
   "metadata": {
    "ExecuteTime": {
     "end_time": "2022-10-17T04:37:25.419839Z",
     "start_time": "2022-10-17T04:37:23.920999Z"
    }
   },
   "outputs": [
    {
     "name": "stdout",
     "output_type": "stream",
     "text": [
      "3\n",
      "5\n"
     ]
    }
   ],
   "source": [
    "n = int(input())\n",
    "\n",
    "d[0] = [0] * 1001\n",
    "\n",
    "d[1] = 1\n",
    "d[2] = 3\n",
    "for i in range(3, n +1):\n",
    "    d[i] = (d[i-1] + 2 * d[i-2]) % 796796\n",
    "    \n",
    "print(d[n])"
   ]
  },
  {
   "cell_type": "markdown",
   "id": "a1eb6ffc",
   "metadata": {},
   "source": [
    "# 효율적인 화폐 구성"
   ]
  },
  {
   "cell_type": "code",
   "execution_count": 27,
   "id": "f24a8877",
   "metadata": {
    "ExecuteTime": {
     "end_time": "2022-10-17T05:44:07.516648Z",
     "start_time": "2022-10-17T05:44:03.850540Z"
    }
   },
   "outputs": [
    {
     "name": "stdout",
     "output_type": "stream",
     "text": [
      "3 7\n",
      "2\n",
      "3\n",
      "5\n",
      "2\n"
     ]
    }
   ],
   "source": [
    "n, m = map(int, input().split())\n",
    "\n",
    "array = []\n",
    "for i in range(n):\n",
    "    array.append(int(input()))\n",
    "    \n",
    "d = [10001] * (m+1)\n",
    "\n",
    "d[0] = 0\n",
    "\n",
    "for i in range(n):\n",
    "    for j in range(array[i], m+1):\n",
    "        if d[j - array[i]] != 10001:\n",
    "            d[j] = min(d[j], d[j-array[i]]+1)\n",
    "            \n",
    "            \n",
    "if d[m] == 10001 :\n",
    "    print(-1)\n",
    "else :\n",
    "    print(d[m])"
   ]
  }
 ],
 "metadata": {
  "hide_input": false,
  "kernelspec": {
   "display_name": "Python 3 (ipykernel)",
   "language": "python",
   "name": "python3"
  },
  "language_info": {
   "codemirror_mode": {
    "name": "ipython",
    "version": 3
   },
   "file_extension": ".py",
   "mimetype": "text/x-python",
   "name": "python",
   "nbconvert_exporter": "python",
   "pygments_lexer": "ipython3",
   "version": "3.9.13"
  },
  "toc": {
   "base_numbering": 1,
   "nav_menu": {},
   "number_sections": true,
   "sideBar": true,
   "skip_h1_title": false,
   "title_cell": "Table of Contents",
   "title_sidebar": "Contents",
   "toc_cell": false,
   "toc_position": {},
   "toc_section_display": true,
   "toc_window_display": true
  },
  "varInspector": {
   "cols": {
    "lenName": 16,
    "lenType": 16,
    "lenVar": 40
   },
   "kernels_config": {
    "python": {
     "delete_cmd_postfix": "",
     "delete_cmd_prefix": "del ",
     "library": "var_list.py",
     "varRefreshCmd": "print(var_dic_list())"
    },
    "r": {
     "delete_cmd_postfix": ") ",
     "delete_cmd_prefix": "rm(",
     "library": "var_list.r",
     "varRefreshCmd": "cat(var_dic_list()) "
    }
   },
   "types_to_exclude": [
    "module",
    "function",
    "builtin_function_or_method",
    "instance",
    "_Feature"
   ],
   "window_display": false
  }
 },
 "nbformat": 4,
 "nbformat_minor": 5
}
