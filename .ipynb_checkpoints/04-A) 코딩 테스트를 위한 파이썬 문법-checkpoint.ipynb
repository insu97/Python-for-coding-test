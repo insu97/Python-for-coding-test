{
 "cells": [
  {
   "cell_type": "markdown",
   "id": "28672afe",
   "metadata": {},
   "source": [
    "# 리스트"
   ]
  },
  {
   "cell_type": "markdown",
   "id": "30e60f11",
   "metadata": {},
   "source": [
    "## 리스트 컴프리헨션\n",
    "    -> 리스트를 초기화 하는 방법 중 하나."
   ]
  },
  {
   "cell_type": "code",
   "execution_count": 1,
   "id": "a459ac5e",
   "metadata": {},
   "outputs": [
    {
     "name": "stdout",
     "output_type": "stream",
     "text": [
      "[1, 3, 5, 7, 9, 11, 13, 15, 17, 19]\n"
     ]
    }
   ],
   "source": [
    "array = [i for i in range(20) if i % 2 == 1]\n",
    "\n",
    "print(array)"
   ]
  },
  {
   "cell_type": "code",
   "execution_count": 2,
   "id": "fd0b14bb",
   "metadata": {},
   "outputs": [
    {
     "name": "stdout",
     "output_type": "stream",
     "text": [
      "[[0, 0, 0, 0], [0, 0, 0, 0], [0, 0, 0, 0]]\n"
     ]
    }
   ],
   "source": [
    "n = 3\n",
    "m = 4\n",
    "array = [[0] * m for _ in range(n)]\n",
    "\n",
    "print(array)"
   ]
  },
  {
   "cell_type": "markdown",
   "id": "3232df5a",
   "metadata": {},
   "source": [
    "## 리스트 관련 기타 메서드"
   ]
  },
  {
   "cell_type": "code",
   "execution_count": 3,
   "id": "e33b99bd",
   "metadata": {},
   "outputs": [
    {
     "name": "stdout",
     "output_type": "stream",
     "text": [
      "[1, 2, 4]\n"
     ]
    }
   ],
   "source": [
    "a = [1,2,3,4,5,5,5]\n",
    "remove_set = [3,5]\n",
    "\n",
    "result = [i for i in a if i not in remove_set]\n",
    "print(result)"
   ]
  },
  {
   "cell_type": "markdown",
   "id": "fe1ba260",
   "metadata": {},
   "source": [
    "# 집합"
   ]
  },
  {
   "cell_type": "markdown",
   "id": "fd7f71c8",
   "metadata": {},
   "source": [
    "## 집합 자료형의 연산"
   ]
  },
  {
   "cell_type": "code",
   "execution_count": 6,
   "id": "117d1d9a",
   "metadata": {},
   "outputs": [
    {
     "name": "stdout",
     "output_type": "stream",
     "text": [
      "합집합 :  {1, 2, 3, 4, 5, 6, 7}\n",
      "교집합 :  {3, 4, 5}\n",
      "차집합 :  {1, 2}\n"
     ]
    }
   ],
   "source": [
    "a = set([1,2,3,4,5,])\n",
    "b = set([3,4,5,6,7])\n",
    "\n",
    "print('합집합 : ', a | b)\n",
    "print('교집합 : ', a & b)\n",
    "print('차집합 : ', a - b)"
   ]
  },
  {
   "cell_type": "markdown",
   "id": "3b10c0f9",
   "metadata": {},
   "source": [
    "## 집합 자료형 관련 함수"
   ]
  },
  {
   "cell_type": "code",
   "execution_count": 7,
   "id": "947b7b03",
   "metadata": {},
   "outputs": [
    {
     "name": "stdout",
     "output_type": "stream",
     "text": [
      "{1, 2, 3, 4}\n",
      "{1, 2, 3, 4, 5, 6}\n",
      "{1, 2, 4, 5, 6}\n"
     ]
    }
   ],
   "source": [
    "data = set([1,2,3])\n",
    "\n",
    "data.add(4)\n",
    "print(data)\n",
    "\n",
    "data.update([5,6])\n",
    "print(data)\n",
    "\n",
    "data.remove(3)\n",
    "print(data)"
   ]
  },
  {
   "cell_type": "markdown",
   "id": "a81677d1",
   "metadata": {},
   "source": [
    "# 입출력"
   ]
  },
  {
   "cell_type": "code",
   "execution_count": 9,
   "id": "d6f4d79d",
   "metadata": {},
   "outputs": [
    {
     "name": "stdout",
     "output_type": "stream",
     "text": [
      "5\n"
     ]
    }
   ],
   "source": [
    "n = int(input())"
   ]
  },
  {
   "cell_type": "code",
   "execution_count": 10,
   "id": "05e26acd",
   "metadata": {},
   "outputs": [
    {
     "name": "stdout",
     "output_type": "stream",
     "text": [
      "11 12 13 14 15\n"
     ]
    }
   ],
   "source": [
    "data = list(map(int , input().split()))"
   ]
  },
  {
   "cell_type": "code",
   "execution_count": 11,
   "id": "6e376e92",
   "metadata": {},
   "outputs": [
    {
     "name": "stdout",
     "output_type": "stream",
     "text": [
      "[11, 12, 13, 14, 15]\n"
     ]
    }
   ],
   "source": [
    "print(data)"
   ]
  },
  {
   "cell_type": "markdown",
   "id": "8f8e9e69",
   "metadata": {},
   "source": [
    "import sys # 이 코드는 코딩 테스트 환경에서 사용가능한 코드인 것 같다.\n",
    "\n",
    "data = sys.stdin.readline().rstrip()  \n",
    "print(data)"
   ]
  }
 ],
 "metadata": {
  "kernelspec": {
   "display_name": "Python 3 (ipykernel)",
   "language": "python",
   "name": "python3"
  },
  "language_info": {
   "codemirror_mode": {
    "name": "ipython",
    "version": 3
   },
   "file_extension": ".py",
   "mimetype": "text/x-python",
   "name": "python",
   "nbconvert_exporter": "python",
   "pygments_lexer": "ipython3",
   "version": "3.9.13"
  }
 },
 "nbformat": 4,
 "nbformat_minor": 5
}
