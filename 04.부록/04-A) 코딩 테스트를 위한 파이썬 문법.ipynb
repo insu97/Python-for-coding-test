{
 "cells": [
  {
   "cell_type": "markdown",
   "id": "28672afe",
   "metadata": {},
   "source": [
    "# 리스트"
   ]
  },
  {
   "cell_type": "markdown",
   "id": "30e60f11",
   "metadata": {},
   "source": [
    "## 리스트 컴프리헨션\n",
    "    -> 리스트를 초기화 하는 방법 중 하나."
   ]
  },
  {
   "cell_type": "code",
   "execution_count": 1,
   "id": "a459ac5e",
   "metadata": {
    "ExecuteTime": {
     "end_time": "2022-09-20T06:45:42.930944Z",
     "start_time": "2022-09-20T06:45:42.911948Z"
    }
   },
   "outputs": [
    {
     "name": "stdout",
     "output_type": "stream",
     "text": [
      "[1, 3, 5, 7, 9, 11, 13, 15, 17, 19]\n"
     ]
    }
   ],
   "source": [
    "array = [i for i in range(20) if i % 2 == 1]\n",
    "\n",
    "print(array)"
   ]
  },
  {
   "cell_type": "code",
   "execution_count": 2,
   "id": "fd0b14bb",
   "metadata": {
    "ExecuteTime": {
     "end_time": "2022-09-20T06:45:42.946924Z",
     "start_time": "2022-09-20T06:45:42.932917Z"
    }
   },
   "outputs": [
    {
     "name": "stdout",
     "output_type": "stream",
     "text": [
      "[[0, 0, 0, 0], [0, 0, 0, 0], [0, 0, 0, 0]]\n"
     ]
    }
   ],
   "source": [
    "n = 3\n",
    "m = 4\n",
    "array = [[0] * m for _ in range(n)]\n",
    "\n",
    "print(array)"
   ]
  },
  {
   "cell_type": "markdown",
   "id": "3232df5a",
   "metadata": {},
   "source": [
    "## 리스트 관련 기타 메서드"
   ]
  },
  {
   "cell_type": "code",
   "execution_count": 3,
   "id": "e33b99bd",
   "metadata": {
    "ExecuteTime": {
     "end_time": "2022-09-20T06:45:42.962924Z",
     "start_time": "2022-09-20T06:45:42.947917Z"
    }
   },
   "outputs": [
    {
     "name": "stdout",
     "output_type": "stream",
     "text": [
      "[1, 2, 4]\n"
     ]
    }
   ],
   "source": [
    "a = [1,2,3,4,5,5,5]\n",
    "remove_set = [3,5]\n",
    "\n",
    "result = [i for i in a if i not in remove_set]\n",
    "print(result)"
   ]
  },
  {
   "cell_type": "markdown",
   "id": "fe1ba260",
   "metadata": {},
   "source": [
    "# 집합"
   ]
  },
  {
   "cell_type": "markdown",
   "id": "fd7f71c8",
   "metadata": {},
   "source": [
    "## 집합 자료형의 연산"
   ]
  },
  {
   "cell_type": "code",
   "execution_count": 4,
   "id": "117d1d9a",
   "metadata": {
    "ExecuteTime": {
     "end_time": "2022-09-20T06:45:42.978081Z",
     "start_time": "2022-09-20T06:45:42.964917Z"
    }
   },
   "outputs": [
    {
     "name": "stdout",
     "output_type": "stream",
     "text": [
      "합집합 :  {1, 2, 3, 4, 5, 6, 7}\n",
      "교집합 :  {3, 4, 5}\n",
      "차집합 :  {1, 2}\n"
     ]
    }
   ],
   "source": [
    "a = set([1,2,3,4,5,])\n",
    "b = set([3,4,5,6,7])\n",
    "\n",
    "print('합집합 : ', a | b)\n",
    "print('교집합 : ', a & b)\n",
    "print('차집합 : ', a - b)"
   ]
  },
  {
   "cell_type": "markdown",
   "id": "3b10c0f9",
   "metadata": {},
   "source": [
    "## 집합 자료형 관련 함수"
   ]
  },
  {
   "cell_type": "code",
   "execution_count": 5,
   "id": "947b7b03",
   "metadata": {
    "ExecuteTime": {
     "end_time": "2022-09-20T06:45:42.994006Z",
     "start_time": "2022-09-20T06:45:42.979041Z"
    }
   },
   "outputs": [
    {
     "name": "stdout",
     "output_type": "stream",
     "text": [
      "{1, 2, 3, 4}\n",
      "{1, 2, 3, 4, 5, 6}\n",
      "{1, 2, 4, 5, 6}\n"
     ]
    }
   ],
   "source": [
    "data = set([1,2,3])\n",
    "\n",
    "data.add(4)\n",
    "print(data)\n",
    "\n",
    "data.update([5,6])\n",
    "print(data)\n",
    "\n",
    "data.remove(3)\n",
    "print(data)"
   ]
  },
  {
   "cell_type": "markdown",
   "id": "a81677d1",
   "metadata": {},
   "source": [
    "# 입출력"
   ]
  },
  {
   "cell_type": "code",
   "execution_count": 6,
   "id": "d6f4d79d",
   "metadata": {
    "ExecuteTime": {
     "end_time": "2022-09-20T06:45:45.006440Z",
     "start_time": "2022-09-20T06:45:42.996014Z"
    }
   },
   "outputs": [
    {
     "name": "stdout",
     "output_type": "stream",
     "text": [
      "5\n"
     ]
    }
   ],
   "source": [
    "n = int(input())"
   ]
  },
  {
   "cell_type": "code",
   "execution_count": 7,
   "id": "05e26acd",
   "metadata": {
    "ExecuteTime": {
     "end_time": "2022-09-20T06:45:50.472806Z",
     "start_time": "2022-09-20T06:45:45.010446Z"
    }
   },
   "outputs": [
    {
     "name": "stdout",
     "output_type": "stream",
     "text": [
      "11 12 13 14 15\n"
     ]
    }
   ],
   "source": [
    "data = list(map(int , input().split()))"
   ]
  },
  {
   "cell_type": "code",
   "execution_count": 8,
   "id": "6e376e92",
   "metadata": {
    "ExecuteTime": {
     "end_time": "2022-09-20T06:45:50.487805Z",
     "start_time": "2022-09-20T06:45:50.474808Z"
    }
   },
   "outputs": [
    {
     "name": "stdout",
     "output_type": "stream",
     "text": [
      "[11, 12, 13, 14, 15]\n"
     ]
    }
   ],
   "source": [
    "print(data)"
   ]
  },
  {
   "cell_type": "markdown",
   "id": "8f8e9e69",
   "metadata": {},
   "source": [
    "''' 이 코드는 코딩 테스트 환경에서 사용가능한 코드인 것 같다. '''  \n",
    "''' input은 느리기 때문에 런타임 에러가 날 확률이 있다. '''  \n",
    "\n",
    "import sys \n",
    "\n",
    "data = sys.stdin.readline().rstrip()  \n",
    "print(data)"
   ]
  }
 ],
 "metadata": {
  "hide_input": false,
  "kernelspec": {
   "display_name": "Python 3 (ipykernel)",
   "language": "python",
   "name": "python3"
  },
  "language_info": {
   "codemirror_mode": {
    "name": "ipython",
    "version": 3
   },
   "file_extension": ".py",
   "mimetype": "text/x-python",
   "name": "python",
   "nbconvert_exporter": "python",
   "pygments_lexer": "ipython3",
   "version": "3.9.13"
  },
  "toc": {
   "base_numbering": 1,
   "nav_menu": {},
   "number_sections": true,
   "sideBar": true,
   "skip_h1_title": false,
   "title_cell": "Table of Contents",
   "title_sidebar": "Contents",
   "toc_cell": false,
   "toc_position": {},
   "toc_section_display": true,
   "toc_window_display": true
  }
 },
 "nbformat": 4,
 "nbformat_minor": 5
}
